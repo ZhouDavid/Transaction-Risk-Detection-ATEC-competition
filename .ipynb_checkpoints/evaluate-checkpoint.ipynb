{
 "cells": [
  {
   "cell_type": "code",
   "execution_count": 1,
   "metadata": {},
   "outputs": [],
   "source": [
    "import pandas as pd\n",
    "import numpy as np\n",
    "import sklearn\n",
    "from sklearn import metrics"
   ]
  },
  {
   "cell_type": "code",
   "execution_count": 9,
   "metadata": {},
   "outputs": [],
   "source": [
    "result = pd.read_csv('./result/small_lr_no_time_result.csv',index_col = 0)"
   ]
  },
  {
   "cell_type": "code",
   "execution_count": 10,
   "metadata": {},
   "outputs": [
    {
     "name": "stdout",
     "output_type": "stream",
     "text": [
      "(0.0009944691169659157, 0.18941176470588236) (0.005013214178677492, 0.46588235294117647) (0.010026428357354985, 0.6223529411764706)\n",
      "0.402235294117647\n"
     ]
    }
   ],
   "source": [
    "# start evaluation\n",
    "# risk_thr1 = np.arange(0,1e-9,1e-10)\n",
    "# risk_thr2 = np.arange(1e-3,0.1,1e-3)\n",
    "# risk_thr3 = np.arange(1-1e-9,1+1e-9,1e-10)\n",
    "# risk_thr = np.concatenate([risk_thr1,risk_thr2,risk_thr3])\n",
    "TPRs= []\n",
    "FNRs= []\n",
    "FNR1 = 0.001\n",
    "FNR2 = 0.005\n",
    "FNR3=0.01\n",
    "model_score = 0\n",
    "min1 = min2 = min3 = 1\n",
    "for thr in np.arange(0,1+0.001,0.001):\n",
    "    tmp_result = result.copy()\n",
    "    tmp_result.loc[tmp_result['score']>=thr,'score'] = 1\n",
    "    tmp_result.loc[tmp_result['score']<thr,'score']=0\n",
    "    TR = tmp_result.loc[(tmp_result['score']==1) & (tmp_result['truth']==1)].shape[0]\n",
    "    FN = tmp_result.loc[(tmp_result['score']==0)&(tmp_result['truth']==1)].shape[0]\n",
    "    TN = tmp_result.loc[(tmp_result['score']==0) & (tmp_result['truth']==0)].shape[0]\n",
    "    FP = tmp_result.loc[(tmp_result['score']==1) & (tmp_result['truth']==0)].shape[0]\n",
    "    TPR = TR/(TR+FN)\n",
    "    FNR = FP/(TN+FP)\n",
    "    TPRs.append(TPR)\n",
    "    FNRs.append(FNR)\n",
    "    if abs(FNR-FNR1)<min1:\n",
    "        min1 = abs(FNR-FNR1)\n",
    "        FNR11 = FNR\n",
    "        TPR1 = TPR\n",
    "    if abs(FNR-FNR2)<min2:\n",
    "        min2 = abs(FNR-FNR2)\n",
    "        FNR22 = FNR\n",
    "        TPR2 = TPR\n",
    "    if abs(FNR-FNR3)<min3:\n",
    "        min3 = abs(FNR-FNR3)\n",
    "        FNR33 = FNR\n",
    "        TPR3 = TPR\n",
    "    del tmp_result\n",
    "print((FNR11,TPR1),(FNR22,TPR2),(FNR33,TPR3))\n",
    "print(0.4*TPR1+0.3*TPR2+0.3*TPR3)"
   ]
  },
  {
   "cell_type": "code",
   "execution_count": 8,
   "metadata": {},
   "outputs": [
    {
     "data": {
      "image/png": "[encoded data removed]",
      "text/plain": [
       "<matplotlib.figure.Figure at 0x21b4f5015c0>"
      ]
     },
     "metadata": {},
     "output_type": "display_data"
    }
   ],
   "source": [
    "import matplotlib.pyplot as plt\n",
    "# thr-FNR 折线图\n",
    "plt.plot(FNRs,TPRs)\n",
    "plt.show()"
   ]
  },
  {
   "cell_type": "code",
   "execution_count": null,
   "metadata": {},
   "outputs": [],
   "source": []
  }
 ],
 "metadata": {
  "kernelspec": {
   "display_name": "Python 3",
   "language": "python",
   "name": "python3"
  },
  "language_info": {
   "codemirror_mode": {
    "name": "ipython",
    "version": 3
   },
   "file_extension": ".py",
   "mimetype": "text/x-python",
   "name": "python",
   "nbconvert_exporter": "python",
   "pygments_lexer": "ipython3",
   "version": "3.5.2"
  }
 },
 "nbformat": 4,
 "nbformat_minor": 2
}
