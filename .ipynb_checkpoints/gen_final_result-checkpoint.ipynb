{
 "cells": [
  {
   "cell_type": "code",
   "execution_count": 1,
   "metadata": {},
   "outputs": [],
   "source": [
    "# read large test.csv\n",
    "import pandas as pd\n",
    "from sklearn import preprocessing\n",
    "test_data = pd.read_csv('./data/full_size/atec_anti_fraud_test_a.csv',index_col=0)\n",
    "test_data = test_data.fillna(test_data.mode().iloc[0])"
   ]
  },
  {
   "cell_type": "code",
   "execution_count": 2,
   "metadata": {},
   "outputs": [],
   "source": [
    "# scale\n",
    "features = test_data.iloc[:,1:]\n",
    "scaler = preprocessing.StandardScaler() # scale\n",
    "features = pd.DataFrame(scaler.fit_transform(features),index = features.index,columns = features.columns)"
   ]
  },
  {
   "cell_type": "code",
   "execution_count": 3,
   "metadata": {},
   "outputs": [],
   "source": [
    "# load model\n",
    "from sklearn.externals import joblib\n",
    "logisticRegression = joblib.load('lr.pkl')"
   ]
  },
  {
   "cell_type": "code",
   "execution_count": 4,
   "metadata": {},
   "outputs": [],
   "source": [
    "scores = logisticRegression.predict_proba(features)\n",
    "import numpy as np\n",
    "result = pd.DataFrame({'score':scores[:,1]},index = features.index)"
   ]
  },
  {
   "cell_type": "code",
   "execution_count": 6,
   "metadata": {},
   "outputs": [],
   "source": [
    "result.to_csv('./submission/default_lr_notime.csv')"
   ]
  },
  {
   "cell_type": "code",
   "execution_count": null,
   "metadata": {},
   "outputs": [],
   "source": []
  }
 ],
 "metadata": {
  "kernelspec": {
   "display_name": "Python 3",
   "language": "python",
   "name": "python3"
  },
  "language_info": {
   "codemirror_mode": {
    "name": "ipython",
    "version": 3
   },
   "file_extension": ".py",
   "mimetype": "text/x-python",
   "name": "python",
   "nbconvert_exporter": "python",
   "pygments_lexer": "ipython3",
   "version": "3.5.2"
  }
 },
 "nbformat": 4,
 "nbformat_minor": 2
}
