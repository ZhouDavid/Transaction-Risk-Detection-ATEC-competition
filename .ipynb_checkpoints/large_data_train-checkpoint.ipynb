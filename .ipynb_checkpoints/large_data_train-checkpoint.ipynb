{
 "cells": [
  {
   "cell_type": "code",
   "execution_count": 1,
   "metadata": {},
   "outputs": [
    {
     "name": "stderr",
     "output_type": "stream",
     "text": [
      "e:\\python352\\lib\\site-packages\\sklearn\\cross_validation.py:41: DeprecationWarning: This module was deprecated in version 0.18 in favor of the model_selection module into which all the refactored classes and functions are moved. Also note that the interface of the new CV iterators are different from that of this module. This module will be removed in 0.20.\n",
      "  \"This module will be removed in 0.20.\", DeprecationWarning)\n"
     ]
    }
   ],
   "source": [
    "import pandas as pd\n",
    "from sklearn.cross_validation import train_test_split\n",
    "from sklearn import preprocessing"
   ]
  },
  {
   "cell_type": "code",
   "execution_count": 2,
   "metadata": {},
   "outputs": [],
   "source": [
    "# data preprocessing\n",
    "df = pd.read_csv('./data/full_size/atec_anti_fraud_train.csv',index_col = 0) # read large data\n",
    "\n",
    "df = df.fillna(df.mode().iloc[0]) # fill nan with most common value\n",
    "\n",
    "X = df.iloc[:,2:] # feature without time\n",
    "Y = df.iloc[:,0] # label\n",
    "x_train,x_test,y_train,y_test=train_test_split(X,Y,test_size=0.2,random_state=1) # split train and test set\n",
    "\n",
    "scaler = preprocessing.StandardScaler() # scale\n",
    "x_train = pd.DataFrame(scaler.fit_transform(x_train),index = x_train.index,columns = x_train.columns)\n",
    "x_test = pd.DataFrame(scaler.fit_transform(x_test),index = x_test.index,columns = x_test.columns)"
   ]
  },
  {
   "cell_type": "code",
   "execution_count": 7,
   "metadata": {},
   "outputs": [
    {
     "name": "stdout",
     "output_type": "stream",
     "text": [
      "-- Epoch 1\n",
      "Norm: 129.19, NNZs: 297, Bias: -732.849620, T: 795784, Avg. loss: 1.223549\n",
      "Total training time: 1.28 seconds.\n",
      "-- Epoch 2\n",
      "Norm: 126.27, NNZs: 297, Bias: -708.493714, T: 1591568, Avg. loss: 0.970215\n",
      "Total training time: 2.49 seconds.\n",
      "Convergence after 2 epochs took 2.49 seconds\n",
      "-- Epoch 1\n",
      "Norm: 156.21, NNZs: 297, Bias: 725.469313, T: 795784, Avg. loss: 3.108534\n",
      "Total training time: 1.15 seconds.\n",
      "-- Epoch 2\n",
      "Norm: 148.98, NNZs: 297, Bias: 680.573575, T: 1591568, Avg. loss: 2.404442\n",
      "Total training time: 2.25 seconds.\n",
      "Convergence after 2 epochs took 2.25 seconds\n",
      "-- Epoch 1\n",
      "Norm: 146.08, NNZs: 297, Bias: -799.665607, T: 795784, Avg. loss: 2.273995\n",
      "Total training time: 1.00 seconds.\n",
      "-- Epoch 2\n",
      "Norm: 141.55, NNZs: 297, Bias: -766.218734, T: 1591568, Avg. loss: 1.828284\n",
      "Total training time: 2.07 seconds.\n",
      "Convergence after 2 epochs took 2.07 seconds\n"
     ]
    },
    {
     "name": "stderr",
     "output_type": "stream",
     "text": [
      "[Parallel(n_jobs=1)]: Done   3 out of   3 | elapsed:    6.7s finished\n"
     ]
    },
    {
     "data": {
      "text/plain": [
       "SGDClassifier(alpha=0.0001, average=False, class_weight=None, epsilon=0.1,\n",
       "       eta0=0.0, fit_intercept=True, l1_ratio=0.15,\n",
       "       learning_rate='optimal', loss='log', max_iter=None, n_iter=None,\n",
       "       n_jobs=1, penalty='l2', power_t=0.5, random_state=None,\n",
       "       shuffle=True, tol=1000.0, verbose=True, warm_start=False)"
      ]
     },
     "execution_count": 7,
     "metadata": {},
     "output_type": "execute_result"
    }
   ],
   "source": [
    "# train model\n",
    "from sklearn.linear_model import SGDClassifier\n",
    "clf = SGDClassifier(loss=\"log\",verbose=True,tol=1e3) # sgd classifier\n",
    "clf.fit(x_train,y_train)"
   ]
  },
  {
   "cell_type": "code",
   "execution_count": 18,
   "metadata": {},
   "outputs": [
    {
     "name": "stdout",
     "output_type": "stream",
     "text": [
      "0.982040442932\n"
     ]
    }
   ],
   "source": [
    "# accuracy_test\n",
    "from sklearn import metrics\n",
    "y_test_predict = clf.predict(x_test)\n",
    "print(metrics.accuracy_score(y_test,y_test_predict))"
   ]
  },
  {
   "cell_type": "code",
   "execution_count": null,
   "metadata": {},
   "outputs": [],
   "source": []
  },
  {
   "cell_type": "code",
   "execution_count": 11,
   "metadata": {},
   "outputs": [
    {
     "name": "stderr",
     "output_type": "stream",
     "text": [
      "e:\\python352\\lib\\site-packages\\sklearn\\linear_model\\base.py:340: RuntimeWarning: overflow encountered in exp\n",
      "  np.exp(prob, prob)\n"
     ]
    }
   ],
   "source": [
    "# probability output for future evaluation\n",
    "y_test_predict = clf.predict_proba(x_test)\n",
    "result = pd.DataFrame({'score':y_test_predict[:,],'truth':y_test})\n",
    "result.to_csv('./result/default_sgd_notime.csv')"
   ]
  },
  {
   "cell_type": "code",
   "execution_count": 17,
   "metadata": {},
   "outputs": [
    {
     "data": {
      "text/plain": [
       "array([[  0.00000000e+000,   1.00000000e+000,   0.00000000e+000],\n",
       "       [  2.70278873e-181,   1.00000000e+000,   3.02496890e-169],\n",
       "       [  1.06471185e-178,   1.00000000e+000,   4.96545104e-023],\n",
       "       ..., \n",
       "       [  1.92070380e-007,   5.04781327e-001,   4.95218481e-001],\n",
       "       [  1.00304798e-203,   1.00000000e+000,   2.65224924e-242],\n",
       "       [  2.55967353e-236,   1.00000000e+000,   0.00000000e+000]])"
      ]
     },
     "execution_count": 17,
     "metadata": {},
     "output_type": "execute_result"
    }
   ],
   "source": []
  },
  {
   "cell_type": "code",
   "execution_count": null,
   "metadata": {},
   "outputs": [],
   "source": []
  }
 ],
 "metadata": {
  "kernelspec": {
   "display_name": "Python 3",
   "language": "python",
   "name": "python3"
  },
  "language_info": {
   "codemirror_mode": {
    "name": "ipython",
    "version": 3
   },
   "file_extension": ".py",
   "mimetype": "text/x-python",
   "name": "python",
   "nbconvert_exporter": "python",
   "pygments_lexer": "ipython3",
   "version": "3.5.2"
  }
 },
 "nbformat": 4,
 "nbformat_minor": 2
}
