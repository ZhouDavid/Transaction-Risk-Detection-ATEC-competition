{
 "cells": [
  {
   "cell_type": "code",
   "execution_count": 1,
   "metadata": {},
   "outputs": [
    {
     "name": "stderr",
     "output_type": "stream",
     "text": [
      "e:\\python352\\lib\\site-packages\\sklearn\\cross_validation.py:41: DeprecationWarning: This module was deprecated in version 0.18 in favor of the model_selection module into which all the refactored classes and functions are moved. Also note that the interface of the new CV iterators are different from that of this module. This module will be removed in 0.20.\n",
      "  \"This module will be removed in 0.20.\", DeprecationWarning)\n"
     ]
    }
   ],
   "source": [
    "import pandas as pd\n",
    "from sklearn.cross_validation import train_test_split\n",
    "from sklearn import preprocessing"
   ]
  },
  {
   "cell_type": "code",
   "execution_count": 24,
   "metadata": {},
   "outputs": [],
   "source": [
    "# data preprocessing\n",
    "df = pd.read_csv('./data/full_size/atec_anti_fraud_train.csv',index_col = 0) # read large data\n",
    "df = df[df['label']!=-1]\n",
    "df = df.fillna(df.mode().iloc[0]) # fill nan with most common value\n",
    "\n",
    "X = df.iloc[:,2:] # feature without time\n",
    "Y = df.iloc[:,0] # label\n",
    "x_train,x_test,y_train,y_test=train_test_split(X,Y,test_size=0.2,random_state=1) # split train and test set\n",
    "\n",
    "scaler = preprocessing.StandardScaler() # scale\n",
    "x_train = pd.DataFrame(scaler.fit_transform(x_train),index = x_train.index,columns = x_train.columns)\n",
    "x_test = pd.DataFrame(scaler.fit_transform(x_test),index = x_test.index,columns = x_test.columns)"
   ]
  },
  {
   "cell_type": "code",
   "execution_count": 29,
   "metadata": {},
   "outputs": [
    {
     "name": "stderr",
     "output_type": "stream",
     "text": [
      "e:\\python352\\lib\\site-packages\\sklearn\\linear_model\\stochastic_gradient.py:128: FutureWarning: max_iter and tol parameters have been added in <class 'sklearn.linear_model.stochastic_gradient.SGDClassifier'> in 0.19. If both are left unset, they default to max_iter=5 and tol=None. If tol is not None, max_iter defaults to max_iter=1000. From 0.21, default max_iter will be 1000, and default tol will be 1e-3.\n",
      "  \"and default tol will be 1e-3.\" % type(self), FutureWarning)\n"
     ]
    },
    {
     "name": "stdout",
     "output_type": "stream",
     "text": [
      "-- Epoch 1\n",
      "Norm: 142.21, NNZs: 297, Bias: -764.926694, T: 792004, Avg. loss: 2.150112\n",
      "Total training time: 1.10 seconds.\n",
      "-- Epoch 2\n",
      "Norm: 137.48, NNZs: 297, Bias: -732.367934, T: 1584008, Avg. loss: 1.696377\n",
      "Total training time: 2.21 seconds.\n",
      "-- Epoch 3\n",
      "Norm: 134.00, NNZs: 297, Bias: -713.667323, T: 2376012, Avg. loss: 1.616754\n",
      "Total training time: 3.37 seconds.\n",
      "-- Epoch 4\n",
      "Norm: 132.40, NNZs: 297, Bias: -700.370628, T: 3168016, Avg. loss: 1.570308\n",
      "Total training time: 4.47 seconds.\n",
      "-- Epoch 5\n",
      "Norm: 131.39, NNZs: 297, Bias: -690.074650, T: 3960020, Avg. loss: 1.538523\n",
      "Total training time: 5.59 seconds.\n"
     ]
    },
    {
     "data": {
      "text/plain": [
       "SGDClassifier(alpha=0.0001, average=False, class_weight=None, epsilon=0.1,\n",
       "       eta0=0.0, fit_intercept=True, l1_ratio=0.15,\n",
       "       learning_rate='optimal', loss='log', max_iter=None, n_iter=None,\n",
       "       n_jobs=1, penalty='l2', power_t=0.5, random_state=None,\n",
       "       shuffle=True, tol=None, verbose=True, warm_start=False)"
      ]
     },
     "execution_count": 29,
     "metadata": {},
     "output_type": "execute_result"
    }
   ],
   "source": [
    "# train model\n",
    "from sklearn.linear_model import SGDClassifier\n",
    "clf = SGDClassifier(loss=\"log\",verbose=True) # sgd classifier\n",
    "clf.fit(x_train,y_train)"
   ]
  },
  {
   "cell_type": "code",
   "execution_count": 30,
   "metadata": {},
   "outputs": [
    {
     "name": "stdout",
     "output_type": "stream",
     "text": [
      "0.986914273593\n"
     ]
    }
   ],
   "source": [
    "# accuracy_test\n",
    "from sklearn import metrics\n",
    "y_test_predict = clf.predict(x_test)\n",
    "print(metrics.accuracy_score(y_test,y_test_predict))"
   ]
  },
  {
   "cell_type": "code",
   "execution_count": 32,
   "metadata": {},
   "outputs": [
    {
     "name": "stderr",
     "output_type": "stream",
     "text": [
      "e:\\python352\\lib\\site-packages\\sklearn\\linear_model\\base.py:340: RuntimeWarning: overflow encountered in exp\n",
      "  np.exp(prob, prob)\n"
     ]
    }
   ],
   "source": [
    "# probability output for future evaluation\n",
    "y_test_predict = clf.predict_proba(x_test)\n",
    "result = pd.DataFrame({'score':y_test_predict[:,1],'truth':y_test})\n",
    "result.to_csv('./result/default_sgd_notime.csv')"
   ]
  },
  {
   "cell_type": "code",
   "execution_count": 50,
   "metadata": {},
   "outputs": [
    {
     "data": {
      "text/plain": [
       "['sgdclassifier.pkl']"
      ]
     },
     "execution_count": 50,
     "metadata": {},
     "output_type": "execute_result"
    }
   ],
   "source": [
    "# save model\n",
    "from sklearn.externals import joblib\n",
    "model_name = 'sgdclassifier.pkl'\n",
    "joblib.dump(clf,model_name)"
   ]
  },
  {
   "cell_type": "code",
   "execution_count": null,
   "metadata": {},
   "outputs": [],
   "source": []
  }
 ],
 "metadata": {
  "kernelspec": {
   "display_name": "Python 3",
   "language": "python",
   "name": "python3"
  },
  "language_info": {
   "codemirror_mode": {
    "name": "ipython",
    "version": 3
   },
   "file_extension": ".py",
   "mimetype": "text/x-python",
   "name": "python",
   "nbconvert_exporter": "python",
   "pygments_lexer": "ipython3",
   "version": "3.5.2"
  }
 },
 "nbformat": 4,
 "nbformat_minor": 2
}
