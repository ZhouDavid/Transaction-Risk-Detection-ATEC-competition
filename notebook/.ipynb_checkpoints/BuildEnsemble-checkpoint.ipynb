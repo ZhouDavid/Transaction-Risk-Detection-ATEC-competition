{
 "cells": [
  {
   "cell_type": "code",
   "execution_count": 1,
   "metadata": {},
   "outputs": [],
   "source": [
    "import pandas as pd\n",
    "import numpy as np\n",
    "from sklearn.externals import joblib\n",
    "import lightgbm as lgb"
   ]
  },
  {
   "cell_type": "code",
   "execution_count": 5,
   "metadata": {},
   "outputs": [],
   "source": [
    "# read data\n",
    "train_data = pd.read_csv('../data/full_size/atec_anti_fraud_train.csv',index_col=0)\n",
    "X = train_data.iloc[:,1:]\n",
    "Y = train_data.iloc[:,0]"
   ]
  },
  {
   "cell_type": "code",
   "execution_count": null,
   "metadata": {},
   "outputs": [],
   "source": [
    "# load models\n",
    "model_root='../models/'\n",
    "model_names=['xgb_300n_5d_0.1l.pkl','lgb_default_early_stop.txt']\n",
    "proba_matrix = {}\n",
    "for model_name in model_names:\n",
    "    model_path = model_root+model_name\n",
    "    print('loading model {}'.format(model_name))\n",
    "    if model_name.endswith('pkl'):\n",
    "        clf = joblib.load(model_path)\n",
    "        # predict over whole train dataset\n",
    "        print('{} is predicting....'.format(model_name))\n",
    "        y_predict_proba = clf.predict_proba(X)\n",
    "        print(\"appending {}'s results...\".format(model_name))\n",
    "        proba_matrix[model_name] = y_predict_proba[:,1]\n",
    "    elif model_name.endswith('txt'):\n",
    "        clf = lgb.Booster(model_file=model_path)\n",
    "        y_predict_proba = clf.predict(X)\n",
    "        print(\"appending {}'s results...\".format(model_name))\n",
    "        proba_matrix[model_name] = y_predict_proba[:,1]\n",
    "\n",
    "# build proba_matrix dataframe\n",
    "pd.Dataframe(proba_matrix,index = X.index)"
   ]
  }
 ],
 "metadata": {
  "kernelspec": {
   "display_name": "Python 3",
   "language": "python",
   "name": "python3"
  },
  "language_info": {
   "codemirror_mode": {
    "name": "ipython",
    "version": 3
   },
   "file_extension": ".py",
   "mimetype": "text/x-python",
   "name": "python",
   "nbconvert_exporter": "python",
   "pygments_lexer": "ipython3",
   "version": "3.5.2"
  }
 },
 "nbformat": 4,
 "nbformat_minor": 2
}
