{
 "cells": [
  {
   "cell_type": "code",
   "execution_count": 1,
   "metadata": {},
   "outputs": [],
   "source": [
    "# read large test.csv\n",
    "import pandas as pd\n",
    "from sklearn import preprocessing\n",
    "test_data = pd.read_csv('../data/full_size/atec_anti_fraud_test_a.csv',index_col=0)"
   ]
  },
  {
   "cell_type": "code",
   "execution_count": null,
   "metadata": {},
   "outputs": [],
   "source": [
    "# scale\n",
    "features = test_data\n",
    "scaler = preprocessing.StandardScaler() # scale\n",
    "features = pd.DataFrame(scaler.fit_transform(features),index = features.index,columns = features.columns)"
   ]
  },
  {
   "cell_type": "code",
   "execution_count": 3,
   "metadata": {},
   "outputs": [],
   "source": [
    "# load model\n",
    "# from keras.models import load_model\n",
    "# denseModel = load_model('../models/large_dense_time.h5')\n",
    "\n",
    "# import model\n",
    "# from sklearn.externals import joblib\n",
    "# model_name = '../models/xgb_300n_5d.pkl'\n",
    "# clf = joblib.load(model_name)\n",
    "import lightgbm as lgb\n",
    "bst = lgb.Booster(model_file='../models/lgb_default_early_stop.txt')  #init model"
   ]
  },
  {
   "cell_type": "code",
   "execution_count": 5,
   "metadata": {},
   "outputs": [],
   "source": [
    "# scores = bst.predict(test_data)\n",
    "# import numpy as np\n",
    "result = pd.DataFrame({'score':scores},index = test_data.index)"
   ]
  },
  {
   "cell_type": "code",
   "execution_count": 18,
   "metadata": {},
   "outputs": [
    {
     "data": {
      "text/plain": [
       "array([[ 0.9868806 ,  0.01311941],\n",
       "       [ 0.72574598,  0.27425402],\n",
       "       [ 0.9935137 ,  0.00648631],\n",
       "       ..., \n",
       "       [ 0.99847126,  0.00152877],\n",
       "       [ 0.9109199 ,  0.0890801 ],\n",
       "       [ 0.9989931 ,  0.00100691]], dtype=float32)"
      ]
     },
     "execution_count": 18,
     "metadata": {},
     "output_type": "execute_result"
    }
   ],
   "source": [
    "scores"
   ]
  },
  {
   "cell_type": "code",
   "execution_count": 6,
   "metadata": {},
   "outputs": [],
   "source": [
    "result.to_csv(\"../submission/lgb_default.csv\")"
   ]
  },
  {
   "cell_type": "code",
   "execution_count": null,
   "metadata": {},
   "outputs": [],
   "source": []
  }
 ],
 "metadata": {
  "kernelspec": {
   "display_name": "Python 3",
   "language": "python",
   "name": "python3"
  },
  "language_info": {
   "codemirror_mode": {
    "name": "ipython",
    "version": 3
   },
   "file_extension": ".py",
   "mimetype": "text/x-python",
   "name": "python",
   "nbconvert_exporter": "python",
   "pygments_lexer": "ipython3",
   "version": "3.5.2"
  }
 },
 "nbformat": 4,
 "nbformat_minor": 2
}
