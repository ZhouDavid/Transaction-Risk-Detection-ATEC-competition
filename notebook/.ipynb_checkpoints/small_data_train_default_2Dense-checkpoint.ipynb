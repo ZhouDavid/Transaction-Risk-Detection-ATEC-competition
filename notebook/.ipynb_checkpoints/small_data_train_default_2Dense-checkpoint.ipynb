{
 "cells": [
  {
   "cell_type": "code",
   "execution_count": 1,
   "metadata": {},
   "outputs": [
    {
     "name": "stderr",
     "output_type": "stream",
     "text": [
      "Using TensorFlow backend.\n"
     ]
    }
   ],
   "source": [
    "import pandas as pd\n",
    "import sklearn\n",
    "from sklearn import svm\n",
    "from sklearn.model_selection import train_test_split\n",
    "from sklearn.model_selection import cross_val_score\n",
    "from sklearn import preprocessing\n",
    "from keras.models import Sequential\n",
    "from keras.layers import Dense\n",
    "from keras.wrappers.scikit_learn import KerasClassifier"
   ]
  },
  {
   "cell_type": "code",
   "execution_count": 2,
   "metadata": {},
   "outputs": [],
   "source": [
    "# constant definition\n",
    "# small_data_path = './data/small_size/sample_atec_anti_fraud_train.csv'\n",
    "full_data_path = '../data/full_size/atec_anti_fraud_train.csv'"
   ]
  },
  {
   "cell_type": "code",
   "execution_count": 3,
   "metadata": {},
   "outputs": [],
   "source": [
    "# write sample data to file\n",
    "df = pd.read_csv(full_data_path,index_col = 0)\n",
    "sdf = df.sample(frac=0.3,random_state=1)\n",
    "# sdf.to_csv(small_data_path)"
   ]
  },
  {
   "cell_type": "code",
   "execution_count": 4,
   "metadata": {},
   "outputs": [],
   "source": [
    "# preprocess sample data\n",
    "# method 1: delete all -1 labeled data\n",
    "psdf1 = sdf[sdf['label']!=-1]\n",
    "# fill in all NAN with most common value\n",
    "psdf1 = psdf1.fillna(psdf1.mode().iloc[0])"
   ]
  },
  {
   "cell_type": "code",
   "execution_count": 9,
   "metadata": {},
   "outputs": [],
   "source": [
    "df1 = psdf1.sort_values(by=['date'])"
   ]
  },
  {
   "cell_type": "code",
   "execution_count": 17,
   "metadata": {},
   "outputs": [],
   "source": [
    "# split train test\n",
    "train_ratio = 0.75\n",
    "train_num = int(df1.shape[0]*train_ratio)\n",
    "train_data = df1.iloc[:train_num,:]\n",
    "test_data = df1.iloc[train_num:,:]\n",
    "train_x = train_data.iloc[:,1:]\n",
    "train_y = train_data.iloc[:,0]\n",
    "test_x = test_data.iloc[:,1:]\n",
    "test_y = test_data.iloc[:,0]"
   ]
  },
  {
   "cell_type": "code",
   "execution_count": 25,
   "metadata": {},
   "outputs": [],
   "source": [
    "# preprocessing scale to 1\n",
    "scaler = preprocessing.StandardScaler()\n",
    "train_x = pd.DataFrame(scaler.fit_transform(train_x),index = train_x.index,columns = train_x.columns)\n",
    "test_x = pd.DataFrame(scaler.fit_transform(test_x),index = test_x.index,columns = test_x.columns)"
   ]
  },
  {
   "cell_type": "code",
   "execution_count": 26,
   "metadata": {},
   "outputs": [],
   "source": [
    "# baseline model\n",
    "input_dim = train_x.shape[1]\n",
    "def create_baseline():\n",
    "    # create model\n",
    "    model = Sequential()\n",
    "    model.add(Dense(60, input_dim=input_dim, kernel_initializer='normal', activation='relu'))\n",
    "    model.add(Dense(1, kernel_initializer='normal', activation='sigmoid'))\n",
    "    # Compile model\n",
    "    model.compile(loss='binary_crossentropy', optimizer='adam', metrics=['accuracy'])\n",
    "    return model"
   ]
  },
  {
   "cell_type": "code",
   "execution_count": 54,
   "metadata": {
    "scrolled": true
   },
   "outputs": [],
   "source": [
    "# evaluate model with standardized dataset\n",
    "from sklearn.model_selection import StratifiedKFold\n",
    "estimator = KerasClassifier(build_fn=create_baseline, epochs=10, batch_size=128, verbose=1)\n",
    "# kfold = StratifiedKFold(n_splits=10, shuffle=True, random_state=0)\n",
    "# results = cross_val_score(estimator,train_x, train_y, cv=kfold)\n",
    "# print(\"Results: %.2f%% (%.2f%%)\" % (results.mean()*100, results.std()*100))"
   ]
  },
  {
   "cell_type": "code",
   "execution_count": 55,
   "metadata": {},
   "outputs": [
    {
     "name": "stdout",
     "output_type": "stream",
     "text": [
      "Epoch 1/10\n",
      "222765/222765 [==============================] - 12s 55us/step - loss: 0.0416 - acc: 0.9879\n",
      "Epoch 2/10\n",
      "222765/222765 [==============================] - 11s 50us/step - loss: 0.0279 - acc: 0.9904\n",
      "Epoch 3/10\n",
      "222765/222765 [==============================] - 11s 50us/step - loss: 0.0262 - acc: 0.9908\n",
      "Epoch 4/10\n",
      "222765/222765 [==============================] - 11s 49us/step - loss: 0.0251 - acc: 0.9913\n",
      "Epoch 5/10\n",
      "222765/222765 [==============================] - 11s 50us/step - loss: 0.0244 - acc: 0.9914\n",
      "Epoch 6/10\n",
      "222765/222765 [==============================] - 11s 50us/step - loss: 0.0235 - acc: 0.9918\n",
      "Epoch 7/10\n",
      "222765/222765 [==============================] - 10s 44us/step - loss: 0.0229 - acc: 0.9919\n",
      "Epoch 8/10\n",
      "222765/222765 [==============================] - 11s 50us/step - loss: 0.0224 - acc: 0.9920\n",
      "Epoch 9/10\n",
      "222765/222765 [==============================] - 11s 51us/step - loss: 0.0217 - acc: 0.9923\n",
      "Epoch 10/10\n",
      "222765/222765 [==============================] - 11s 48us/step - loss: 0.0213 - acc: 0.9924\n"
     ]
    },
    {
     "data": {
      "text/plain": [
       "<keras.callbacks.History at 0x19fb0fc1ac8>"
      ]
     },
     "execution_count": 55,
     "metadata": {},
     "output_type": "execute_result"
    }
   ],
   "source": [
    "estimator.fit(train_x,train_y)"
   ]
  },
  {
   "cell_type": "code",
   "execution_count": 59,
   "metadata": {},
   "outputs": [
    {
     "name": "stdout",
     "output_type": "stream",
     "text": [
      "222765/222765 [==============================] - 4s 17us/step\n"
     ]
    },
    {
     "data": {
      "text/plain": [
       "0.76633165829145733"
      ]
     },
     "execution_count": 59,
     "metadata": {},
     "output_type": "execute_result"
    }
   ],
   "source": [
    "from sklearn import metrics\n",
    "predict_y=estimator.predict(train_x)\n",
    "metrics.precision_score(train_y,predict_y)"
   ]
  },
  {
   "cell_type": "code",
   "execution_count": 12,
   "metadata": {},
   "outputs": [],
   "source": [
    "y_test_predict = clf.predict_proba(x_test)\n",
    "result = pd.DataFrame({'score':y_test_predict[:,1],'truth':y_test},index = x_test.index)\n",
    "result.to_csv('../result/small_dense_no_time_result.csv')"
   ]
  },
  {
   "cell_type": "code",
   "execution_count": 9,
   "metadata": {},
   "outputs": [
    {
     "data": {
      "text/plain": [
       "['sgdclassifier.pkl']"
      ]
     },
     "execution_count": 9,
     "metadata": {},
     "output_type": "execute_result"
    }
   ],
   "source": [
    "# save sgd model\n",
    "from sklearn.externals import joblib\n",
    "model_name = 'denseClassifier.pkl'\n",
    "joblib.dump(clf,model_name,compress=9)"
   ]
  },
  {
   "cell_type": "code",
   "execution_count": 2,
   "metadata": {},
   "outputs": [],
   "source": [
    "# import model\n",
    "clf = joblib.load(model_name)"
   ]
  },
  {
   "cell_type": "code",
   "execution_count": 53,
   "metadata": {},
   "outputs": [
    {
     "name": "stderr",
     "output_type": "stream",
     "text": [
      "e:\\python352\\lib\\site-packages\\sklearn\\linear_model\\base.py:340: RuntimeWarning: overflow encountered in exp\n",
      "  np.exp(prob, prob)\n"
     ]
    }
   ],
   "source": [
    "yp_pedict = clf.predict_proba(x_test)"
   ]
  },
  {
   "cell_type": "code",
   "execution_count": 54,
   "metadata": {},
   "outputs": [],
   "source": [
    "# import real test data\n",
    "test_data = pd.read_csv('./data/full_size/atec_anti_fraud_test_a.csv',index_col = 0)"
   ]
  },
  {
   "cell_type": "code",
   "execution_count": 55,
   "metadata": {},
   "outputs": [
    {
     "name": "stderr",
     "output_type": "stream",
     "text": [
      "e:\\python352\\lib\\site-packages\\sklearn\\linear_model\\base.py:340: RuntimeWarning: overflow encountered in exp\n",
      "  np.exp(prob, prob)\n"
     ]
    }
   ],
   "source": [
    "# fill nan\n",
    "test_data = test_data.fillna(test_data.mode().iloc[0])\n",
    "test_data_x = test_data.iloc[:,1:]\n",
    "test_predict_y = clf.predict_proba(test_data_x)"
   ]
  },
  {
   "cell_type": "code",
   "execution_count": 16,
   "metadata": {},
   "outputs": [],
   "source": [
    "from sklearn import metrics\n",
    "test_y = clf.predict_proba(test_data_x)"
   ]
  },
  {
   "cell_type": "code",
   "execution_count": 56,
   "metadata": {},
   "outputs": [],
   "source": [
    "result = pd.DataFrame({'score':test_predict_y[:,1]},index=test_data.index)"
   ]
  },
  {
   "cell_type": "code",
   "execution_count": 58,
   "metadata": {},
   "outputs": [],
   "source": [
    "result.to_csv('bm.csv')"
   ]
  },
  {
   "cell_type": "code",
   "execution_count": 65,
   "metadata": {},
   "outputs": [
    {
     "data": {
      "text/plain": [
       "6.1016783683298489e-06"
      ]
     },
     "execution_count": 65,
     "metadata": {},
     "output_type": "execute_result"
    }
   ],
   "source": [
    "result['score'].mean()"
   ]
  },
  {
   "cell_type": "code",
   "execution_count": 60,
   "metadata": {},
   "outputs": [
    {
     "data": {
      "text/plain": [
       "id\n",
       "8e8290c270ec4bc3448dd5edd35c6f059b42d38f9ddd6fda5578f0e340908fa4    0.0\n",
       "f36c5fa5c0e7afccf733a4d74c7e06ffe43cc8fd24eda7c335237327bb02e02b    0.0\n",
       "ee85f808b1fd49eaba308527e1686c509dc8e3e50574888e0f5f8bc21733711c    0.0\n",
       "0df905aa187938d56a9b0816b13f54ac1f87d658a33cd06505b738c66b54fd3f    0.0\n",
       "15f532f979c4f092bbbe28e5409c8c3b8454ece8f1ab3ee00755b4949ef75c03    0.0\n",
       "614728f2aba299d20ddffca7e1ebc38ae8f239663562a9a3602e1e2c373f7299    0.0\n",
       "3dc22d969895bc4afdaa5266d1586ae1a360adfcc638b5fb1e2f242bbbc869eb    0.0\n",
       "b6cba0173d6a894f443578b5d82c00444dfe24c5e1705d4b2b835062eeb61d7a    0.0\n",
       "84d010a48c747947588589473e2ebdc59db3d348849c5b67759dfbcd1d92f35e    0.0\n",
       "bc00fec7ff8b3e4f8bd826048da109e7fe40fcc604ba28ce78576e05a4e67fba    0.0\n",
       "85426887c8a4f4fd881ae1e79654940e35c68bfd681a5eaac4787f0f82483780    0.0\n",
       "ee84ac886d80e779aeb5c4af65dbb8e087014d7c98b7973bd9d91d8e2467a341    0.0\n",
       "4cbb83002d62e3257d49d3742b0a27eb677ae1c464f69e4b19fe73d095ab8eae    0.0\n",
       "4e6ba7f2c84040ec8afde9f42c5bee3d53fd24e3df292980a6475fc06138d559    0.0\n",
       "032045573490536147dc7a4d7863407c3d2dc4e47d8ce58e3b07baef8095d2f3    0.0\n",
       "187cbf2082730f6466823adbbbfe8b8e20c6fa6bcf67fe434794804bf9dfe921    0.0\n",
       "596c89fe956456a0d990099c35fbca2bba67c32689f0fe63d04baf307b1ce702    0.0\n",
       "537db04fbbaa2bddc4fbb680cb9b10fc226709827b02233ccc9a5127332fd7c4    0.0\n",
       "a18bc6484d6dea76411aed24f9b94790f5f990a16ffceaf4a2fa9b2d81e14310    0.0\n",
       "8841419781118cbfd94a34c7a061623195615582d8eda91f7af8dbe6442110ef    0.0\n",
       "4cf2141914054e9623011ecfea7b62fcf8d3ba94a825512de3444f0897cae392    0.0\n",
       "5fbcdd4d10bcd0747a287d3b9b54f616171111e37def25077e3cceb4786f468d    0.0\n",
       "fe8e6d1092c0926d54d5a5aab6d6d8942c0925312e39c88d1177a490b4e74a86    0.0\n",
       "75a6a0fee2bf767d62ed4517bb100b4aa8c10da2d6d7b85878ce6ee4aba9ad51    0.0\n",
       "1c786dcb18dba07f986b664512b554f089091625835cacfb1cfb7bf3077e1097    0.0\n",
       "81d59991505942c91533ef060e67f66c774dfb0415bdb0ee350f4b96ff21b750    0.0\n",
       "6f841c3ac2b2c12d8a23cb76f0fb8feca702d9c9d4d55f6030262460c0acfb68    0.0\n",
       "368c8d09b5c242a7e17aa854f76f23cad6c8a5e438708d7733e3f483d7c5d5df    0.0\n",
       "77b27e29a4c10eb00b4322e799b28d394eca67483a3d94ef868c1954a03bfe5d    0.0\n",
       "ad7457213e0a9b7711e61da87bdfac1b47663e75d42408e7927f282e14c9d3f2    0.0\n",
       "                                                                   ... \n",
       "d4b098fafd692a295c57faa983dcd3d218f1a5b42ecbc7e28ede8f42de9aefe8    0.0\n",
       "5d119d2140d142aec1b9a917aa429a30090bd262ee9a4f77591d5834f8126d9d    0.0\n",
       "10c32fc8561fffb90da6b46e132fdf0afa1f7da915656576222220b205e0e142    0.0\n",
       "397128e474f229537fcfcfa69ac56b3436d98b40df02ab037f410d57a199ccea    0.0\n",
       "351899a089abec91effdb0aca1ccda5565c9a067cff688b339615d6907d335cd    0.0\n",
       "73268f49c5241e8103915e9ff5e842876f15af7e3c2fd213f6917f55774c51c2    0.0\n",
       "583f9b7aa46b175dc01cd2c9fdbde6a4cee26ee01a3fbc7f52a28a7c28dd17e8    0.0\n",
       "48df10c8d7fa90c0ab0c492dfacfbb00e9ba26b917be9be10327816671528614    0.0\n",
       "ea43529784f5bd6fed50c6e074dd5d07cab0d122eb8693736875f2fc5f08a5ca    0.0\n",
       "e20eeab59588e330cc59ad51b11145642f643b946870693eb48d90a94b8b8eaa    0.0\n",
       "c73d0ac9086958ee08fb82960c2210bcd1550b94fa77499330fd6c986761354f    0.0\n",
       "a045122827fd1aa6ee991d6e6b3c3a12639926fe7ca6aaac3a281de253869b5f    0.0\n",
       "02ade44f41fd9ebeb920357ca16ddb0083cd866c25c41f8a5132ae3bb070f5f6    0.0\n",
       "12200dddbac63d241e4a1699225ccc0becc419ba01f4e6697ad7f005d381e205    0.0\n",
       "762ae031e9db752bebf0c9312f61b100f166378184d52f372115ba08d436985b    0.0\n",
       "055e3c7e1e998b442093f97c6c833bc1877d5f57b8db775dd06f589465b54f2b    0.0\n",
       "4663485dc77da88d90a6d2a82a568ee1a09ed98d799e5875b27fb66994576f4b    0.0\n",
       "7815e67aec26fe04fa157d0f748c1bb1e5a8958d896e4ef001ad08ab947a0d4e    0.0\n",
       "4f1503eaa2d04abaa21f1206a0235158a0b445b94e1139e85796eb8a3dbcf89d    0.0\n",
       "0380f24a28d60b12d3ebdbec43e41f418f826dc110ceb26e5d5a1a7cb217ff3d    0.0\n",
       "d71b2050e8d0712c8164e42640d673114df00db5ca6c8eb9debe8c39b453e95f    0.0\n",
       "cf1852995c7d7af3437f763914065e09b3a309dcb2385efccef1613c852db9dc    0.0\n",
       "eedbc73ba4f0f9a273cdc76a73494b2bde7c0042fa39fcf73acb330eeb2d4db8    0.0\n",
       "cfa902b6cc55e0bdf72448cd1dbcfb74f6ac523d9cd636def1fdfa70cee5fe53    0.0\n",
       "dca4519f5eafcd2f7dd0efb8fa5f747797b95b784b6deef5faf0c03d0cbd0252    0.0\n",
       "6c81b06105883ca7a14663ab36b86c8d8c42063d9339bd5b1242ec96afbabdce    0.0\n",
       "ed66c4e4a0c12c25ccb5adde538bf4f23b5f0d78b72437f4c7eca56d7d8c664a    0.0\n",
       "d903a703b172bad8200e82755c24941892be59323b2c9ac1e53ae5778cf74fa9    0.0\n",
       "61c195379230f1237cc37b47045cedc7be59bf806313eaf5dc63f56b5d0ff522    0.0\n",
       "a32a828405ff4487da0a8e8c67be8d1c658a9dbd07d78654dfd6ad6399c67975    0.0\n",
       "Name: score, Length: 491668, dtype: float64"
      ]
     },
     "execution_count": 60,
     "metadata": {},
     "output_type": "execute_result"
    }
   ],
   "source": [
    "result['score']"
   ]
  },
  {
   "cell_type": "code",
   "execution_count": null,
   "metadata": {},
   "outputs": [],
   "source": []
  }
 ],
 "metadata": {
  "kernelspec": {
   "display_name": "Python 3",
   "language": "python",
   "name": "python3"
  },
  "language_info": {
   "codemirror_mode": {
    "name": "ipython",
    "version": 3
   },
   "file_extension": ".py",
   "mimetype": "text/x-python",
   "name": "python",
   "nbconvert_exporter": "python",
   "pygments_lexer": "ipython3",
   "version": "3.5.2"
  }
 },
 "nbformat": 4,
 "nbformat_minor": 2
}
