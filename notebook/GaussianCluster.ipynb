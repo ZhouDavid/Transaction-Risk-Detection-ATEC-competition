{
 "cells": [
  {
   "cell_type": "markdown",
   "metadata": {},
   "source": [
    "#  Read Data"
   ]
  },
  {
   "cell_type": "code",
   "execution_count": 3,
   "metadata": {},
   "outputs": [],
   "source": [
    "import pandas as pd\n",
    "import numpy as np\n",
    "train_data = pd.read_csv('../data/full_size/atec_anti_fraud_train.csv',index_col = 0)\n",
    "testa_data = pd.read_csv('../data/full_size/atec_anti_fraud_test_a.csv',index_col = 0)"
   ]
  },
  {
   "cell_type": "markdown",
   "metadata": {},
   "source": [
    "# Get filldable features"
   ]
  },
  {
   "cell_type": "code",
   "execution_count": 4,
   "metadata": {},
   "outputs": [],
   "source": [
    "# find no missing value features\n",
    "no_nan_features = []\n",
    "i = 0\n",
    "while i<len(testa_data.columns):\n",
    "    name = testa_data.columns[i]\n",
    "    if train_data[name].isnull().sum()==0:\n",
    "        no_nan_features.append(name)\n",
    "    i+=1"
   ]
  },
  {
   "cell_type": "code",
   "execution_count": 5,
   "metadata": {},
   "outputs": [],
   "source": [
    "# find small missing features\n",
    "small_missing_features=[]\n",
    "i = 1\n",
    "while i<len(testa_data.columns):\n",
    "    name = testa_data.columns[i]\n",
    "    train_missing_rate = train_data[name].isnull().sum()/train_data.shape[0]\n",
    "    test_missing_rate = testa_data[name].isnull().sum()/testa_data.shape[0]\n",
    "    if 0<train_missing_rate<0.3 and abs(test_missing_rate-train_missing_rate)<0.1:\n",
    "        small_missing_features.append(name)\n",
    "    i+=1"
   ]
  },
  {
   "cell_type": "markdown",
   "metadata": {},
   "source": [
    "# Split data into normal and anormal"
   ]
  },
  {
   "cell_type": "code",
   "execution_count": null,
   "metadata": {},
   "outputs": [],
   "source": [
    "normal_data = train_data[train_data['label']==0]\n",
    "anormal_data = train_data[train_data['label']==1]\n",
    "\n",
    "normal_train_num = int(normal_data.shape[0]*0.8)\n",
    "normal_test_num = int(normal_data.shape[0]*0.1)\n",
    "normal_valid_num = normal_data.shape[0]-normal_train_num-normal_test_num\n",
    "\n",
    "anormal_test_num = int(anormal_data.shape[0]*0.5)\n",
    "anormal_valid_num = anormal_data.shape[0]-anormal_test_num\n",
    "\n",
    "normal_train_x = normal_data.iloc[:normal_train_num,1:]\n",
    "normal_valid_x = normal_data.iloc[normal_train_num:normal_train_num+normal_valid_num,1:]\n",
    "normal_valid_y = normal_data.iloc[normal_train_num:normal_train_num+normal_valid_num,0]\n",
    "normal_test_x = normal_data.iloc[normal_train_num+normal_valid_num:,1:]\n",
    "normal_test_y = normal_data.iloc[normal_train_num+normal_valid_num:,0]\n",
    "\n",
    "anormal_valid_x = anormal_data.iloc[:anormal_valid_num,1:]\n",
    "anormal_valid_y = anormal_data.iloc[:anormal_valid_num,0]\n",
    "anormal_test_x = anormal_data.iloc[anormal_valid_num:,1:]\n",
    "anormal_test_y = anormal_data.iloc[anormal_valid_num:,0]\n",
    "\n",
    "valid_x = normal_valid_x.append(anormal_valid_x)\n",
    "valid_y = normal_valid_y.append(anormal_valid_y)\n",
    "test_x = normal_test_x.append(anormal_test_x)\n",
    "test_y = normal_test_y.append(anormal_test_y)"
   ]
  },
  {
   "cell_type": "markdown",
   "metadata": {},
   "source": [
    "# Define evaluation function"
   ]
  },
  {
   "cell_type": "code",
   "execution_count": 6,
   "metadata": {},
   "outputs": [],
   "source": [
    "def ant_score(truth,score):\n",
    "    FNR1 = 0.001\n",
    "    FNR2 = 0.005\n",
    "    FNR3 = 0.01\n",
    "    min1 = min2 = min3 = 1\n",
    "    for thr in np.arange(0,1+0.001,0.001):\n",
    "        evaluate_table = pd.DataFrame({'truth':truth,'score':score})\n",
    "        evaluate_table.loc[evaluate_table['score']>=thr,'score']=1\n",
    "        evaluate_table.loc[evaluate_table['score']<thr,'score']=0\n",
    "        TP = evaluate_table.loc[(evaluate_table['score']==1)&(evaluate_table['truth']==1)].shape[0]\n",
    "        FN = evaluate_table.loc[(evaluate_table['score']==0)&(evaluate_table['truth']==1)].shape[0]\n",
    "        TN = evaluate_table.loc[(evaluate_table['score']==0)&(evaluate_table['truth']==0)].shape[0]\n",
    "        FP = evaluate_table.loc[(evaluate_table['score']==1)&(evaluate_table['truth']==0)].shape[0]\n",
    "        TPR = TP/(TP+FN)\n",
    "        FNR = FP/(TN+FP)\n",
    "        if abs(FNR-FNR1)<min1:\n",
    "            min1 = abs(FNR-FNR1)\n",
    "            FNR11 = FNR\n",
    "            TPR1 = TPR\n",
    "        if abs(FNR-FNR2)<min2:\n",
    "            min2 = abs(FNR-FNR2)\n",
    "            FNR22 = FNR\n",
    "            TPR2 = TPR\n",
    "        if abs(FNR-FNR3)<min3:\n",
    "            min3 = abs(FNR-FNR3)\n",
    "            FNR33 = FNR\n",
    "            TPR3 = TPR\n",
    "    return (0.4*TPR1+0.3*TPR2+0.3*TPR3,FNR11,FNR22,FNR33)"
   ]
  },
  {
   "cell_type": "markdown",
   "metadata": {},
   "source": [
    "# Try visual clustering using kmeans"
   ]
  },
  {
   "cell_type": "code",
   "execution_count": 7,
   "metadata": {},
   "outputs": [],
   "source": [
    "from sklearn.cluster import KMeans\n",
    "# prepare subset of data\n",
    "sample_data = train_data[train_data['label']!=-1].drop(columns=['label'])\n",
    "sample_data = sample_data[no_nan_features+small_missing_features]\n",
    "sample_data.fillna(sample_data.mean(),inplace=True)"
   ]
  },
  {
   "cell_type": "markdown",
   "metadata": {},
   "source": [
    "## Build and fit kmeans model"
   ]
  },
  {
   "cell_type": "code",
   "execution_count": 8,
   "metadata": {},
   "outputs": [
    {
     "data": {
      "text/plain": [
       "KMeans(algorithm='auto', copy_x=True, init='k-means++', max_iter=300,\n",
       "    n_clusters=2, n_init=10, n_jobs=1, precompute_distances='auto',\n",
       "    random_state=None, tol=0.0001, verbose=0)"
      ]
     },
     "execution_count": 8,
     "metadata": {},
     "output_type": "execute_result"
    }
   ],
   "source": [
    "clustering = KMeans(n_clusters=2)\n",
    "clustering.fit(sample_data)"
   ]
  },
  {
   "cell_type": "code",
   "execution_count": 9,
   "metadata": {},
   "outputs": [],
   "source": [
    "from sklearn.decomposition import PCA\n",
    "import matplotlib.pyplot as plt\n",
    "from matplotlib import style\n",
    "style.use('ggplot')\n",
    "%matplotlib inline\n",
    "%config InlineBackend.figure_format = 'svg'\n",
    "\n",
    "pca = PCA(n_components=3).fit(sample_data)\n",
    "sample_data2d = pca.transform(sample_data)"
   ]
  },
  {
   "cell_type": "code",
   "execution_count": 10,
   "metadata": {},
   "outputs": [],
   "source": [
    "labels = train_data[train_data['label']!=-1]['label']"
   ]
  },
  {
   "cell_type": "code",
   "execution_count": null,
   "metadata": {},
   "outputs": [],
   "source": [
    "from mpl_toolkits.mplot3d import Axes3D\n",
    "\n",
    "fig = plt.figure()\n",
    "ax = fig.add_subplot(111, projection='3d')\n",
    "\n",
    "ax.scatter(sample_data2d[:,0],sample_data2d[:,1],sample_data2d[:,2],c=labels.astype(float))\n",
    "plt.title(\"Ground truth\")\n",
    "# plt.subplot(1,2,2)\n",
    "# plt.scatter(sample_data2d[:10000,0],sample_data2d[:10000,1],sample_data2d[:10000,2],c=clustering.labels_[:10000].astype(float))\n",
    "# plt.title(\"Kmeans result\")\n",
    "plt.show()"
   ]
  },
  {
   "cell_type": "code",
   "execution_count": 1,
   "metadata": {},
   "outputs": [
    {
     "ename": "NameError",
     "evalue": "name 'pd' is not defined",
     "output_type": "error",
     "traceback": [
      "\u001b[1;31m---------------------------------------------------------------------------\u001b[0m",
      "\u001b[1;31mNameError\u001b[0m                                 Traceback (most recent call last)",
      "\u001b[1;32m<ipython-input-1-f44ec0f34c54>\u001b[0m in \u001b[0;36m<module>\u001b[1;34m()\u001b[0m\n\u001b[1;32m----> 1\u001b[1;33m \u001b[0mprint\u001b[0m\u001b[1;33m(\u001b[0m\u001b[0mpd\u001b[0m\u001b[1;33m.\u001b[0m\u001b[0mSeries\u001b[0m\u001b[1;33m(\u001b[0m\u001b[0mlabels\u001b[0m\u001b[1;33m[\u001b[0m\u001b[1;33m:\u001b[0m\u001b[1;36m10000\u001b[0m\u001b[1;33m]\u001b[0m\u001b[1;33m)\u001b[0m\u001b[1;33m.\u001b[0m\u001b[0mvalue_counts\u001b[0m\u001b[1;33m(\u001b[0m\u001b[1;33m)\u001b[0m\u001b[1;33m)\u001b[0m\u001b[1;33m\u001b[0m\u001b[0m\n\u001b[0m\u001b[0;32m      2\u001b[0m \u001b[0mprint\u001b[0m\u001b[1;33m(\u001b[0m\u001b[0mpd\u001b[0m\u001b[1;33m.\u001b[0m\u001b[0mSeries\u001b[0m\u001b[1;33m(\u001b[0m\u001b[0mclustering\u001b[0m\u001b[1;33m.\u001b[0m\u001b[0mlabels_\u001b[0m\u001b[1;33m[\u001b[0m\u001b[1;33m:\u001b[0m\u001b[1;36m10000\u001b[0m\u001b[1;33m]\u001b[0m\u001b[1;33m)\u001b[0m\u001b[1;33m.\u001b[0m\u001b[0mvalue_counts\u001b[0m\u001b[1;33m(\u001b[0m\u001b[1;33m)\u001b[0m\u001b[1;33m)\u001b[0m\u001b[1;33m\u001b[0m\u001b[0m\n",
      "\u001b[1;31mNameError\u001b[0m: name 'pd' is not defined"
     ]
    }
   ],
   "source": [
    "print(pd.Series(labels[:10000]).value_counts())\n",
    "print(pd.Series(clustering.labels_[:10000]).value_counts())"
   ]
  },
  {
   "cell_type": "code",
   "execution_count": 37,
   "metadata": {},
   "outputs": [
    {
     "name": "stdout",
     "output_type": "stream",
     "text": [
      "0.0 0.0\n"
     ]
    }
   ],
   "source": [
    "from sklearn.metrics import precision_score,recall_score\n",
    "pre_score = precision_score(labels[:10000],clustering.labels_[:10000])\n",
    "rec_score = recall_score(labels[:10000],clustering.labels_[:10000])\n",
    "print(pre_score,rec_score)"
   ]
  },
  {
   "cell_type": "markdown",
   "metadata": {},
   "source": [
    "# 1. Gaussian based semi-supervised model"
   ]
  },
  {
   "cell_type": "markdown",
   "metadata": {},
   "source": [
    "## 1.1 Handling missing values"
   ]
  },
  {
   "cell_type": "code",
   "execution_count": 38,
   "metadata": {},
   "outputs": [
    {
     "name": "stdout",
     "output_type": "stream",
     "text": [
      "-16.90444455367482\n",
      "-21.49116167759294\n"
     ]
    }
   ],
   "source": [
    "# gaussian model\n",
    "from scipy.stats import multivariate_normal\n",
    "from sklearn.preprocessing import StandardScaler\n",
    "from sklearn.preprocessing import Imputer\n",
    "from sklearn.pipeline import Pipeline\n",
    "\n",
    "imputer = Imputer(strategy='mean')\n",
    "scaler = StandardScaler()\n",
    "normal_train_x = imputer.fit_transform(normal_train_x.loc[:,no_nan_features+small_missing_features])\n",
    "normal_train_x = scaler.fit_transform(normal_train_x)\n",
    "normal_valid_x = imputer.fit_transform(normal_valid_x.loc[:,no_nan_features+small_missing_features])\n",
    "normal_valid_x = scaler.fit_transform(normal_valid_x)\n",
    "anormal_valid_x = scaler.fit_transform(imputer.fit_transform(anormal_valid_x.loc[:,no_nan_features+small_missing_features]))"
   ]
  },
  {
   "cell_type": "markdown",
   "metadata": {},
   "source": [
    "## 1.2 Get mu and sigma of Gaussian Distribution"
   ]
  },
  {
   "cell_type": "code",
   "execution_count": null,
   "metadata": {},
   "outputs": [],
   "source": [
    "mu = normal_train_x.mean(axis=0)\n",
    "sigma = pd.DataFrame(normal_train_x).cov()\n",
    "model = multivariate_normal(cov=sigma, mean=mu, allow_singular=True)"
   ]
  },
  {
   "cell_type": "markdown",
   "metadata": {},
   "source": [
    "## 1.3 Get average distance result in valid dataset"
   ]
  },
  {
   "cell_type": "code",
   "execution_count": null,
   "metadata": {},
   "outputs": [],
   "source": [
    "print(np.median(model.logpdf(normal_valid_x)))\n",
    "print(np.median(model.logpdf(anormal_valid_x))) "
   ]
  },
  {
   "cell_type": "markdown",
   "metadata": {},
   "source": [
    "# 2. Isolation Forest"
   ]
  },
  {
   "cell_type": "markdown",
   "metadata": {},
   "source": [
    "## 2.1 Build Model"
   ]
  },
  {
   "cell_type": "code",
   "execution_count": 184,
   "metadata": {},
   "outputs": [
    {
     "name": "stdout",
     "output_type": "stream",
     "text": [
      "0.10782184916058435\n",
      "0.0677083113482714\n"
     ]
    }
   ],
   "source": [
    "# isolation forest model\n",
    "from sklearn.ensemble import IsolationForest\n",
    "np.random.seed(42)\n",
    "\n",
    "model = IsolationForest(random_state=42,max_samples=new_normal_train_x.shape[0], bootstrap=True, n_estimators=50)\n",
    "model.fit(new_normal_train_x)"
   ]
  },
  {
   "cell_type": "markdown",
   "metadata": {},
   "source": [
    "## 2.2 Get mean score of normal and anormal data"
   ]
  },
  {
   "cell_type": "code",
   "execution_count": 190,
   "metadata": {},
   "outputs": [
    {
     "name": "stdout",
     "output_type": "stream",
     "text": [
      "0.15212544974077724\n",
      "-0.20261464142587504\n"
     ]
    }
   ],
   "source": [
    "print(model.decision_function(new_normal_valid_x).mean())\n",
    "print(model.decision_function(new_anormal_valid_x).mean())"
   ]
  },
  {
   "cell_type": "markdown",
   "metadata": {},
   "source": [
    "## 2.3 Tune threshold in valid dataset"
   ]
  },
  {
   "cell_type": "code",
   "execution_count": 191,
   "metadata": {},
   "outputs": [],
   "source": [
    "# tune threshold\n",
    "from sklearn.metrics import recall_score,precision_score,fbeta_score\n",
    "thresholds = np.linspace(-0.2,0.2,200)\n",
    "y_scores = model.decision_function(new_valid_x)\n",
    "scores=[]\n",
    "for threshold in thresholds:\n",
    "    y_hat = (y_scores < threshold).astype(int)\n",
    "    scores.append([recall_score(y_pred=y_hat, y_true=valid_y.values),\n",
    "                 precision_score(y_pred=y_hat, y_true=valid_y.values),\n",
    "                 fbeta_score(y_pred=y_hat, y_true=valid_y.values, beta=2)])"
   ]
  },
  {
   "cell_type": "markdown",
   "metadata": {},
   "source": [
    "## 2.4 Get Best threshold"
   ]
  },
  {
   "cell_type": "code",
   "execution_count": 192,
   "metadata": {},
   "outputs": [
    {
     "name": "stdout",
     "output_type": "stream",
     "text": [
      "0.2854756186697296 150\n"
     ]
    }
   ],
   "source": [
    "scores = np.array(scores)\n",
    "print(scores[:,2].max(),scores[:,2].argmax())"
   ]
  },
  {
   "cell_type": "markdown",
   "metadata": {},
   "source": [
    "## 2.5 Plot result"
   ]
  },
  {
   "cell_type": "code",
   "execution_count": 193,
   "metadata": {},
   "outputs": [
    {
     "data": {
      "image/png": "[encoded data removed]",
      "text/plain": [
       "<matplotlib.figure.Figure at 0x194ef5be898>"
      ]
     },
     "metadata": {},
     "output_type": "display_data"
    }
   ],
   "source": [
    "import matplotlib.pyplot as plt\n",
    "from matplotlib import style\n",
    "style.use('ggplot')\n",
    "plt.plot(thresholds, scores[:, 0], label='$Recall$')\n",
    "plt.plot(thresholds, scores[:, 1], label='$Precision$')\n",
    "plt.plot(thresholds, scores[:, 2], label='$F_2$')\n",
    "plt.ylabel('Score')\n",
    "plt.xlabel('Threshold')\n",
    "plt.legend(loc='best')\n",
    "plt.show()"
   ]
  },
  {
   "cell_type": "markdown",
   "metadata": {},
   "source": [
    "## 2.6 Prediction on test set using best threshold"
   ]
  },
  {
   "cell_type": "code",
   "execution_count": 168,
   "metadata": {},
   "outputs": [
    {
     "name": "stdout",
     "output_type": "stream",
     "text": [
      "0.10744059699628439 0.5677280976736512 0.3057525190595511\n"
     ]
    }
   ],
   "source": [
    "best_thr = thresholds[scores[:,2].argmax()]\n",
    "y_scores = model.decision_function(imputer.fit_transform(test_x.loc[:,no_nan_features+small_missing_features]))\n",
    "y_hat = (y_scores < best_thr).astype(int)\n",
    "print(precision_score(y_pred=y_hat, y_true=test_y.values),\n",
    "      recall_score(y_pred=y_hat, y_true=test_y.values),\n",
    "    fbeta_score(y_pred=y_hat, y_true=test_y.values, beta=2))"
   ]
  }
 ],
 "metadata": {
  "kernelspec": {
   "display_name": "Python 3",
   "language": "python",
   "name": "python3"
  },
  "language_info": {
   "codemirror_mode": {
    "name": "ipython",
    "version": 3
   },
   "file_extension": ".py",
   "mimetype": "text/x-python",
   "name": "python",
   "nbconvert_exporter": "python",
   "pygments_lexer": "ipython3",
   "version": "3.5.4"
  }
 },
 "nbformat": 4,
 "nbformat_minor": 2
}
