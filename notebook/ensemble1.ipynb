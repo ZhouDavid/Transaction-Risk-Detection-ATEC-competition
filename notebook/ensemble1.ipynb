{
 "cells": [
  {
   "cell_type": "code",
   "execution_count": 1,
   "metadata": {},
   "outputs": [],
   "source": [
    "import pandas as pd\n",
    "import numpy as np\n",
    "from sklearn.externals import joblib\n",
    "import lightgbm as lgb"
   ]
  },
  {
   "cell_type": "code",
   "execution_count": 2,
   "metadata": {},
   "outputs": [],
   "source": [
    "# read data\n",
    "train_data = pd.read_csv('../data/full_size/atec_anti_fraud_train.csv',index_col=0)\n",
    "train_data = train_data[train_data['label']!=-1]\n",
    "X = train_data.iloc[:,1:]\n",
    "Y = train_data.iloc[:,0]"
   ]
  },
  {
   "cell_type": "code",
   "execution_count": 3,
   "metadata": {},
   "outputs": [
    {
     "name": "stdout",
     "output_type": "stream",
     "text": [
      "loading model xgb_300n_5d_0.1l.pkl\n",
      "xgb_300n_5d_0.1l.pkl is predicting....\n",
      "appending xgb_300n_5d_0.1l.pkl's results...\n",
      "loading model lgb_default_early_stop.txt\n",
      "appending lgb_default_early_stop.txt's results...\n"
     ]
    }
   ],
   "source": [
    "# load models\n",
    "model_root='../models/'\n",
    "model_names=['xgb_300n_5d_0.1l.pkl','lgb_default_early_stop.txt']\n",
    "proba_matrix = {}\n",
    "for model_name in model_names:\n",
    "    model_path = model_root+model_name\n",
    "    print('loading model {}'.format(model_name))\n",
    "    if model_name.endswith('pkl'):\n",
    "        clf = joblib.load(model_path)\n",
    "        # predict over whole train dataset\n",
    "        print('{} is predicting....'.format(model_name))\n",
    "        y_predict_proba = clf.predict_proba(X)\n",
    "        print(\"appending {}'s results...\".format(model_name))\n",
    "        proba_matrix[model_name] = y_predict_proba[:,1]\n",
    "    elif model_name.endswith('txt'):\n",
    "        clf = lgb.Booster(model_file=model_path)\n",
    "        y_predict_proba = clf.predict(X)\n",
    "        print(\"appending {}'s results...\".format(model_name))\n",
    "        proba_matrix[model_name] = y_predict_proba\n",
    "\n",
    "# build proba_matrix dataframe\n",
    "proba_matrix = pd.DataFrame(proba_matrix,index = X.index)\n",
    "proba_matrix['truth'] = Y"
   ]
  },
  {
   "cell_type": "code",
   "execution_count": 4,
   "metadata": {},
   "outputs": [],
   "source": [
    "proba_matrix.to_csv('ensemble.csv',index=False)"
   ]
  },
  {
   "cell_type": "code",
   "execution_count": 71,
   "metadata": {},
   "outputs": [],
   "source": [
    "# build neural network graph\n",
    "from keras.models import Sequential\n",
    "from keras.layers import Dense, Activation\n",
    "from keras.constraints import non_neg\n",
    "from keras import regularizers\n",
    "from keras import initializers\n",
    "\n",
    "def ensembleNet(input_dim):\n",
    "    model = Sequential([Dense(1,input_dim=input_dim,\n",
    "                              kernel_initializer=initializers.RandomNormal(mean=0.5, stddev=0.05, seed=None),\n",
    "                              kernel_constraint=non_neg(),bias_constraint=non_neg(),kernel_regularizer=regularizers.l2(0.01))])\n",
    "    model.compile(loss='binary_crossentropy', optimizer='adam')\n",
    "    return model"
   ]
  },
  {
   "cell_type": "code",
   "execution_count": 72,
   "metadata": {},
   "outputs": [
    {
     "name": "stdout",
     "output_type": "stream",
     "text": [
      "Epoch 1/1\n",
      "792004/792004 [==============================] - 75s 95us/step - loss: 0.0271\n"
     ]
    },
    {
     "data": {
      "text/plain": [
       "<keras.callbacks.History at 0x16c1c333b38>"
      ]
     },
     "execution_count": 72,
     "metadata": {},
     "output_type": "execute_result"
    }
   ],
   "source": [
    "# training ensemble model\n",
    "train_ratio = 0.8\n",
    "train_num = int(proba_matrix.shape[0]*train_ratio)\n",
    "ensemble_net = ensembleNet(len(model_names))\n",
    "ensemble_net.fit(x=proba_matrix.iloc[:train_num,:2].values,y=proba_matrix.iloc[:train_num,2].values,epochs=1)"
   ]
  },
  {
   "cell_type": "code",
   "execution_count": 90,
   "metadata": {},
   "outputs": [
    {
     "name": "stdout",
     "output_type": "stream",
     "text": [
      "precision:0.4961315280464217,recall:0.84375\n"
     ]
    }
   ],
   "source": [
    "from sklearn import metrics\n",
    "y_predict_proba = ensemble_net.predict(proba_matrix.iloc[train_num:,:2].values)\n",
    "length= y_predict_proba.shape[0]\n",
    "# reshape output\n",
    "y_predict_proba = y_predict_proba.reshape(length,)\n",
    "def polorize(x):\n",
    "    if x>0.1:\n",
    "        return 1\n",
    "    else:\n",
    "        return 0\n",
    "vec = np.vectorize(polorize)\n",
    "y_predict = vec(y_predict_proba)\n",
    "print(\"precision:{},recall:{}\".format(metrics.precision_score(Y[train_num:],y_predict),metrics.recall_score(Y[train_num:],y_predict)))"
   ]
  },
  {
   "cell_type": "code",
   "execution_count": 96,
   "metadata": {},
   "outputs": [],
   "source": [
    "pd.DataFrame({'score':y_predict_proba,'truth':Y[train_num:]},index=Y[train_num:].index).to_csv('ensem.csv')\n",
    "# save ensemble model\n",
    "ensemble_net.save('../models/ensemble_xgb300n5d0.1l+lgb_default_early_stop.h5')"
   ]
  },
  {
   "cell_type": "code",
   "execution_count": 95,
   "metadata": {},
   "outputs": [],
   "source": [
    "# generate final output for official test data\n",
    "test_data = pd.read_csv('../data/full_size/atec_anti_fraud_test_a.csv',index_col = 0)\n",
    "X = test_data\n",
    "\n",
    "# load model\n",
    "model_root='../models/'\n",
    "model_names=['xgb_300n_5d_0.1l.pkl','lgb_default_early_stop.txt']\n",
    "proba_matrix = {}\n",
    "for model_name in model_names:\n",
    "    model_path = model_root+model_name\n",
    "    print('loading model {}'.format(model_name))\n",
    "    if model_name.endswith('pkl'):\n",
    "        clf = joblib.load(model_path)\n",
    "        # predict over whole train dataset\n",
    "        print('{} is predicting....'.format(model_name))\n",
    "        y_predict_proba = clf.predict_proba(X)\n",
    "        print(\"appending {}'s results...\".format(model_name))\n",
    "        proba_matrix[model_name] = y_predict_proba[:,1]\n",
    "    elif model_name.endswith('txt'):\n",
    "        clf = lgb.Booster(model_file=model_path)\n",
    "        y_predict_proba = clf.predict(X)\n",
    "        print(\"appending {}'s results...\".format(model_name))\n",
    "        proba_matrix[model_name] = y_predict_proba\n",
    "\n",
    "# generate result\n",
    "proba_matrix = pd.DataFrame(proba_matrix,index = X.index)\n",
    "y_predict_proba = ensemble_net.predict(proba_matrix.values)\n",
    "length= y_predict_proba.shape[0]\n",
    "scores = y_predict_proba.reshape(length,)\n",
    "result = pd.DataFrame({'score':scores},index=test_data.index)\n",
    "result.to_csv('../submission/ensemble_xgb300n5d0.1l+lgb_default_early_stop.csv')"
   ]
  },
  {
   "cell_type": "code",
   "execution_count": null,
   "metadata": {},
   "outputs": [],
   "source": []
  }
 ],
 "metadata": {
  "kernelspec": {
   "display_name": "Python 3",
   "language": "python",
   "name": "python3"
  },
  "language_info": {
   "codemirror_mode": {
    "name": "ipython",
    "version": 3
   },
   "file_extension": ".py",
   "mimetype": "text/x-python",
   "name": "python",
   "nbconvert_exporter": "python",
   "pygments_lexer": "ipython3",
   "version": "3.5.4"
  }
 },
 "nbformat": 4,
 "nbformat_minor": 2
}
