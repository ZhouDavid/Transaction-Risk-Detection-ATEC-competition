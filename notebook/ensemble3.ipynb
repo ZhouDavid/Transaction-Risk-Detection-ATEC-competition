{
 "cells": [
  {
   "cell_type": "code",
   "execution_count": 1,
   "metadata": {},
   "outputs": [
    {
     "name": "stderr",
     "output_type": "stream",
     "text": [
      "e:\\python352\\lib\\site-packages\\sklearn\\cross_validation.py:41: DeprecationWarning: This module was deprecated in version 0.18 in favor of the model_selection module into which all the refactored classes and functions are moved. Also note that the interface of the new CV iterators are different from that of this module. This module will be removed in 0.20.\n",
      "  \"This module will be removed in 0.20.\", DeprecationWarning)\n"
     ]
    }
   ],
   "source": [
    "import pandas as pd\n",
    "import numpy as np\n",
    "import sklearn\n",
    "from sklearn import svm\n",
    "from sklearn.cross_validation import train_test_split\n",
    "from sklearn import preprocessing\n",
    "import lightgbm as lgb\n",
    "from sklearn.model_selection import GridSearchCV,RandomizedSearchCV"
   ]
  },
  {
   "cell_type": "code",
   "execution_count": 15,
   "metadata": {},
   "outputs": [],
   "source": [
    "files = ['../submission/'+'lgb6ensemble-v2_0.3925.csv',\n",
    "        '../submission/'+'lgb7ensemble-v3_0.3925.csv',\n",
    "         '../submission/'+'lgb6ensemble-v4_0.39.csv',\n",
    "         '../submission/'+'lgb10ensemble-v5_0.3887.csv',\n",
    "    '../submission/'+'lgb6ensemble_0.3873.csv',\n",
    "         '../submission/'+'lgb14ensemble-v6_0.387.csv',\n",
    "    '../submission/'+'testb_lgb_100n350le9d01l_fillnan_sf158_datecv5_original_date_0.3835.csv',\n",
    "        '../submission/'+'testb_lgb_100n350le9d01l_fillnan_sf158_cv5_converted_date-v2_0.3781.csv',\n",
    "        '../submission/'+'testb_lgb_100n350le9d01l_fillnan_sf158_cv5_converted_date_0.3716.csv',\n",
    "         '../submission/'+'testb_lgb_300n80le7d01l_sf298_cv5_original_date_0.03oversample_0.36.csv',\n",
    "         '../submission/'+'testb_lgb_100n350le9d01l_fillnan_sf158_datecv5_original_date-v2_0.3327.csv',\n",
    "         '../submission/'+'testb_lgb_900n350le9d01l_fillnan_sf158_datecv5_original_date_0.3327.csv',\n",
    "         '../submission/'+'testb_lgb_100n350le9d01l_fillnan_sf158_cv5_converted_date_0.03oversample_0.3448.csv',\n",
    "         '../submission/'+'testb_lgb_100n350le9d01l_fillnan_sf158_cv5_original_date_0.03oversample_0.3482.csv',\n",
    "         '../submission/'+'testb_lgb_100n350le9d01l_fillnan_sf158_datecv5_original_date_0.03oversample_0.3626.csv',\n",
    "         '../submission/'+'testb_lgb_100n350le9d01l_fillnan_sf158_datecv5_converted_date_0.3684.csv',\n",
    "         '../submission/'+'testb_lgb_100n350le9d01l_fillnan_sf126_cv5_0.3526.csv',\n",
    "         '../submission/'+'testb_lgb_100n350le9d01l_fillnan_sf158_cv5_0.3493.csv'\n",
    "        ]\n",
    "weights = np.array([0.3925,0.3925,0.39,0.3887,0.3873,0.387,0.3835,0.3781,0.3716,0.36,0.3327,0.3327,0.3448,0.3482,0.3626,\n",
    "                   0.3684,0.3526,0.3493])\n",
    "scores = []\n",
    "for file in files:\n",
    "    tmp = pd.read_csv(file,index_col = 0)\n",
    "    scores.append(tmp['score'])\n",
    "ensemble_scores = pd.DataFrame(scores).T"
   ]
  },
  {
   "cell_type": "code",
   "execution_count": 18,
   "metadata": {},
   "outputs": [],
   "source": [
    "final_score = pd.Series(np.zeros(ensemble_scores.shape[0]),index=tmp.index)\n",
    "for i in range(ensemble_scores.shape[1]):\n",
    "    final_score = final_score+(ensemble_scores.iloc[:,i]*weights[i])\n",
    "final_score = final_score.apply(lambda x:x/weights.sum())"
   ]
  },
  {
   "cell_type": "code",
   "execution_count": 19,
   "metadata": {},
   "outputs": [],
   "source": [
    "pd.DataFrame({'score':final_score},index = tmp.index).to_csv('../submission/lgb18ensemble-v9.csv')"
   ]
  },
  {
   "cell_type": "code",
   "execution_count": null,
   "metadata": {},
   "outputs": [],
   "source": []
  }
 ],
 "metadata": {
  "kernelspec": {
   "display_name": "Python 3",
   "language": "python",
   "name": "python3"
  },
  "language_info": {
   "codemirror_mode": {
    "name": "ipython",
    "version": 3
   },
   "file_extension": ".py",
   "mimetype": "text/x-python",
   "name": "python",
   "nbconvert_exporter": "python",
   "pygments_lexer": "ipython3",
   "version": "3.5.2"
  }
 },
 "nbformat": 4,
 "nbformat_minor": 2
}
