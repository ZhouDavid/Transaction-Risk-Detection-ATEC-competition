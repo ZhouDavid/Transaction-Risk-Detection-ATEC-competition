{
 "cells": [
  {
   "cell_type": "code",
   "execution_count": 16,
   "metadata": {},
   "outputs": [],
   "source": [
    "import pandas as pd\n",
    "import numpy as np\n",
    "import sklearn\n",
    "from sklearn import svm\n",
    "from sklearn.cross_validation import train_test_split\n",
    "from sklearn import preprocessing\n",
    "import lightgbm as lgb\n",
    "from sklearn.model_selection import GridSearchCV,RandomizedSearchCV"
   ]
  },
  {
   "cell_type": "code",
   "execution_count": 47,
   "metadata": {},
   "outputs": [],
   "source": [
    "files = ['../submission/'+'testb_lgb_100n350le9d01l_fillnan_sf158_datecv5_original_date_0.3835.csv',\n",
    "        '../submission/'+'testb_lgb_100n350le9d01l_fillnan_sf158_cv5_converted_date-v2_0.3781.csv',\n",
    "        '../submission/'+'testb_lgb_100n350le9d01l_fillnan_sf158_cv5_converted_date_0.3716.csv',\n",
    "        '../submission/'+'testb_lgb_100n350le9d01l_fillnan_sf158_datecv5_converted_date_0.3684.csv',\n",
    "        '../submission/'+'testb_lgb_100n450le9d01l_fillnan_sf157_normalcv5_original_date_0.03oversample_0.3592.csv',\n",
    "        '../submission/'+'testb_lgb_100n400le9d01l_fillnan_sf158_normalcv5_original_date_0.3587.csv']\n",
    "weights = np.array([0.3835,0.3781,0.3716,0.3684,0.3592,0.3587])\n",
    "scores = []\n",
    "for file in files:\n",
    "    tmp = pd.read_csv(file,index_col = 0)\n",
    "    scores.append(tmp['score'])\n",
    "ensemble_scores = pd.DataFrame(scores).T"
   ]
  },
  {
   "cell_type": "code",
   "execution_count": 48,
   "metadata": {},
   "outputs": [],
   "source": [
    "final_score = pd.Series(np.zeros(ensemble_scores.shape[0]),index=tmp.index)\n",
    "for i in range(ensemble_scores.shape[1]):\n",
    "    final_score = final_score+(ensemble_scores.iloc[:,i]*weights[i])\n",
    "final_score = final_score.apply(lambda x:x/weights.sum())"
   ]
  },
  {
   "cell_type": "code",
   "execution_count": 50,
   "metadata": {},
   "outputs": [],
   "source": [
    "pd.DataFrame({'score':final_score},index = tmp.index).to_csv('../submission/lgb6ensemble.csv')"
   ]
  },
  {
   "cell_type": "code",
   "execution_count": null,
   "metadata": {},
   "outputs": [],
   "source": []
  }
 ],
 "metadata": {
  "kernelspec": {
   "display_name": "Python 3",
   "language": "python",
   "name": "python3"
  },
  "language_info": {
   "codemirror_mode": {
    "name": "ipython",
    "version": 3
   },
   "file_extension": ".py",
   "mimetype": "text/x-python",
   "name": "python",
   "nbconvert_exporter": "python",
   "pygments_lexer": "ipython3",
   "version": "3.5.2"
  }
 },
 "nbformat": 4,
 "nbformat_minor": 2
}
