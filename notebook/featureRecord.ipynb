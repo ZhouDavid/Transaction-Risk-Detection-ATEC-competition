{
 "cells": [
  {
   "cell_type": "code",
   "execution_count": 1,
   "metadata": {},
   "outputs": [],
   "source": [
    "import pandas as pd\n",
    "import numpy as np\n",
    "train_data = pd.read_csv('../data/full_size/atec_anti_fraud_train.csv',index_col = 0)\n",
    "testa_data = pd.read_csv('../data/full_size/atec_anti_fraud_test_a.csv',index_col = 0)"
   ]
  },
  {
   "cell_type": "code",
   "execution_count": 41,
   "metadata": {},
   "outputs": [],
   "source": [
    "from matplotlib import style\n",
    "import matplotlib.pyplot as plt\n",
    "import seaborn as sns\n",
    "style.use('ggplot')\n",
    "%matplotlib inline\n",
    "%config InlineBackend.figure_format = 'svg'\n",
    "\n",
    "feature_names = []\n",
    "sim_scores=[]\n",
    "for name in testa_data.columns:\n",
    "    if name!='date':\n",
    "        testa_ratio = testa_data[name].value_counts().sort_index()/testa_data.shape[0]\n",
    "        train_ratio = train_data[name].value_counts().sort_index()/train_data.shape[0]\n",
    "        feature_names.append(name)\n",
    "        sim_scores.append((testa_ratio.subtract(train_ratio,fill_value=0)).apply(lambda x:x**2).sum())"
   ]
  },
  {
   "cell_type": "code",
   "execution_count": 48,
   "metadata": {},
   "outputs": [],
   "source": [
    "sim_scores = pd.Series(sim_scores,index=feature_names)\n",
    "sim_scores.to_csv('sim_scores.csv')"
   ]
  },
  {
   "cell_type": "code",
   "execution_count": 76,
   "metadata": {},
   "outputs": [
    {
     "name": "stdout",
     "output_type": "stream",
     "text": [
      "1.0     0.361741\n",
      "2.0     0.362096\n",
      "3.0     0.000627\n",
      "4.0     0.000101\n",
      "5.0     0.000040\n",
      "6.0     0.000027\n",
      "7.0     0.000007\n",
      "8.0     0.000002\n",
      "9.0     0.000002\n",
      "11.0    0.000002\n",
      "Name: f155, dtype: float64\n",
      "1.0    0.180441\n",
      "2.0    0.181555\n",
      "3.0    0.000419\n",
      "4.0    0.000022\n",
      "5.0    0.000012\n",
      "6.0    0.000004\n",
      "Name: f155, dtype: float64\n"
     ]
    }
   ],
   "source": [
    "print(train_data.f155.value_counts().sort_index()/train_data.shape[0])\n",
    "print(testa_data.f155.value_counts().sort_index()/testa_data.shape[0])"
   ]
  },
  {
   "cell_type": "code",
   "execution_count": null,
   "metadata": {},
   "outputs": [],
   "source": [
    "train_test_diff_features=['f20','f22','']"
   ]
  },
  {
   "cell_type": "code",
   "execution_count": null,
   "metadata": {},
   "outputs": [],
   "source": []
  }
 ],
 "metadata": {
  "kernelspec": {
   "display_name": "Python 3",
   "language": "python",
   "name": "python3"
  },
  "language_info": {
   "codemirror_mode": {
    "name": "ipython",
    "version": 3
   },
   "file_extension": ".py",
   "mimetype": "text/x-python",
   "name": "python",
   "nbconvert_exporter": "python",
   "pygments_lexer": "ipython3",
   "version": "3.5.4"
  }
 },
 "nbformat": 4,
 "nbformat_minor": 2
}
