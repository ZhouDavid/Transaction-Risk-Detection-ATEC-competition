{
 "cells": [
  {
   "cell_type": "code",
   "execution_count": 1,
   "metadata": {},
   "outputs": [],
   "source": [
    "# read large test.csv\n",
    "import pandas as pd\n",
    "from sklearn import preprocessing\n",
    "test_data = pd.read_csv('../data/full_size/atec_anti_fraud_test_a.csv',index_col=0)"
   ]
  },
  {
   "cell_type": "code",
   "execution_count": 4,
   "metadata": {},
   "outputs": [],
   "source": [
    "# divid date\n",
    "import datetime\n",
    "def date2weekday(date):\n",
    "    date = str(date)\n",
    "    year = int(date[0:4])\n",
    "    month = int(date[4:6])\n",
    "    day = int(date[6:])\n",
    "    return datetime.datetime(year,month,day).weekday()\n",
    "    \n",
    "month = test_data['date'].apply(lambda x:int(str(x)[4:6]))\n",
    "day = test_data['date'].apply(lambda x:int(str(x)[6:]))\n",
    "weekday=test_data['date'].apply(date2weekday)\n",
    "\n",
    "test_data['month']=month\n",
    "test_data['day']=day\n",
    "test_data['weekday']=weekday"
   ]
  },
  {
   "cell_type": "code",
   "execution_count": 3,
   "metadata": {},
   "outputs": [],
   "source": [
    "# scale\n",
    "features = test_data.iloc[:,1:]\n",
    "scaler = preprocessing.StandardScaler() # scale\n",
    "features = pd.DataFrame(scaler.fit_transform(features),index = features.index,columns = features.columns)"
   ]
  },
  {
   "cell_type": "code",
   "execution_count": 2,
   "metadata": {},
   "outputs": [],
   "source": [
    "# load model\n",
    "from sklearn.externals import joblib\n",
    "xgb = joblib.load('../models/xgb_500n_9d_0.1l.pkl')"
   ]
  },
  {
   "cell_type": "code",
   "execution_count": 5,
   "metadata": {},
   "outputs": [],
   "source": [
    "scores = xgb.predict_proba(test_data)\n",
    "import numpy as np\n",
    "result = pd.DataFrame({'score':scores[:,1]},index = test_data.index)"
   ]
  },
  {
   "cell_type": "code",
   "execution_count": 7,
   "metadata": {},
   "outputs": [],
   "source": [
    "result.to_csv('../submission/time_split_xgb_500n_9d_0.1l.csv')"
   ]
  },
  {
   "cell_type": "code",
   "execution_count": null,
   "metadata": {},
   "outputs": [],
   "source": []
  }
 ],
 "metadata": {
  "kernelspec": {
   "display_name": "Python 3",
   "language": "python",
   "name": "python3"
  },
  "language_info": {
   "codemirror_mode": {
    "name": "ipython",
    "version": 3
   },
   "file_extension": ".py",
   "mimetype": "text/x-python",
   "name": "python",
   "nbconvert_exporter": "python",
   "pygments_lexer": "ipython3",
   "version": "3.5.4"
  }
 },
 "nbformat": 4,
 "nbformat_minor": 2
}
