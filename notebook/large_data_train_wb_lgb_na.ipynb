{
 "cells": [
  {
   "cell_type": "code",
   "execution_count": 2,
   "metadata": {},
   "outputs": [],
   "source": [
    "import pandas as pd\n",
    "import sklearn\n",
    "from sklearn import svm\n",
    "from sklearn.cross_validation import train_test_split\n",
    "from sklearn import preprocessing\n",
    "import lightgbm as lgb"
   ]
  },
  {
   "cell_type": "code",
   "execution_count": 3,
   "metadata": {},
   "outputs": [],
   "source": [
    "# constant definition\n",
    "# small_data_path = './data/small_size/sample_atec_anti_fraud_train.csv'\n",
    "full_data_path = '../data/full_size/atec_anti_fraud_train.csv'"
   ]
  },
  {
   "cell_type": "code",
   "execution_count": 4,
   "metadata": {},
   "outputs": [],
   "source": [
    "# write sample data to file\n",
    "df = pd.read_csv(full_data_path,index_col = 0)"
   ]
  },
  {
   "cell_type": "code",
   "execution_count": 5,
   "metadata": {},
   "outputs": [],
   "source": [
    "# preprocess sample data\n",
    "# method 1: delete all -1 labeled data\n",
    "df = df[df['label']!=-1]\n",
    "df = df.sort_values(by=['date'])\n",
    "# fill in all NAN with most common value\n",
    "# df = df.fillna(df.mode().iloc[0])"
   ]
  },
  {
   "cell_type": "code",
   "execution_count": 6,
   "metadata": {},
   "outputs": [],
   "source": [
    "train_ratio = 0.8\n",
    "train_num = int(train_ratio*df.shape[0])\n",
    "\n",
    "train_x = df.iloc[:train_num,1:]\n",
    "train_y = df.iloc[:train_num,0]\n",
    "test_x = df.iloc[train_num:,1:]\n",
    "test_y = df.iloc[train_num:,0]\n",
    "\n",
    "train_data = lgb.Dataset(data=train_x,label=train_y)\n",
    "test_data = lgb.Dataset(data=test_x,label=test_y)"
   ]
  },
  {
   "cell_type": "code",
   "execution_count": 7,
   "metadata": {},
   "outputs": [],
   "source": [
    "param = {'num_leaves':31, 'num_trees':100, 'objective':'binary'}\n",
    "param['metric'] = 'binary_logloss'"
   ]
  },
  {
   "cell_type": "code",
   "execution_count": 9,
   "metadata": {},
   "outputs": [
    {
     "name": "stdout",
     "output_type": "stream",
     "text": [
      "[1]\tvalid_0's binary_logloss: 0.601413\n",
      "Training until validation scores don't improve for 20 rounds.\n",
      "[2]\tvalid_0's binary_logloss: 0.526239\n",
      "[3]\tvalid_0's binary_logloss: 0.463591\n",
      "[4]\tvalid_0's binary_logloss: 0.410671\n",
      "[5]\tvalid_0's binary_logloss: 0.365467\n",
      "[6]\tvalid_0's binary_logloss: 0.326567\n",
      "[7]\tvalid_0's binary_logloss: 0.292834\n",
      "[8]\tvalid_0's binary_logloss: 0.263547\n",
      "[9]\tvalid_0's binary_logloss: 0.237834\n",
      "[10]\tvalid_0's binary_logloss: 0.2152\n",
      "[11]\tvalid_0's binary_logloss: 0.195239\n",
      "[12]\tvalid_0's binary_logloss: 0.177564\n",
      "[13]\tvalid_0's binary_logloss: 0.161934\n",
      "[14]\tvalid_0's binary_logloss: 0.148025\n",
      "[15]\tvalid_0's binary_logloss: 0.135682\n",
      "[16]\tvalid_0's binary_logloss: 0.124635\n",
      "[17]\tvalid_0's binary_logloss: 0.114831\n",
      "[18]\tvalid_0's binary_logloss: 0.105961\n",
      "[19]\tvalid_0's binary_logloss: 0.0980647\n",
      "[20]\tvalid_0's binary_logloss: 0.0909679\n",
      "[21]\tvalid_0's binary_logloss: 0.0845886\n",
      "[22]\tvalid_0's binary_logloss: 0.0788938\n",
      "[23]\tvalid_0's binary_logloss: 0.0737887\n",
      "[24]\tvalid_0's binary_logloss: 0.0692038\n",
      "[25]\tvalid_0's binary_logloss: 0.06507\n",
      "[26]\tvalid_0's binary_logloss: 0.0614078\n",
      "[27]\tvalid_0's binary_logloss: 0.0582142\n",
      "[28]\tvalid_0's binary_logloss: 0.0552203\n",
      "[29]\tvalid_0's binary_logloss: 0.0525317\n",
      "[30]\tvalid_0's binary_logloss: 0.0501053\n",
      "[31]\tvalid_0's binary_logloss: 0.0479406\n",
      "[32]\tvalid_0's binary_logloss: 0.0459908\n",
      "[33]\tvalid_0's binary_logloss: 0.0442098\n",
      "[34]\tvalid_0's binary_logloss: 0.0426495\n",
      "[35]\tvalid_0's binary_logloss: 0.0412183\n",
      "[36]\tvalid_0's binary_logloss: 0.0399231\n",
      "[37]\tvalid_0's binary_logloss: 0.0387523\n",
      "[38]\tvalid_0's binary_logloss: 0.0377471\n",
      "[39]\tvalid_0's binary_logloss: 0.0368085\n",
      "[40]\tvalid_0's binary_logloss: 0.0359539\n",
      "[41]\tvalid_0's binary_logloss: 0.0351789\n",
      "[42]\tvalid_0's binary_logloss: 0.0345125\n",
      "[43]\tvalid_0's binary_logloss: 0.0339406\n",
      "[44]\tvalid_0's binary_logloss: 0.0334559\n",
      "[45]\tvalid_0's binary_logloss: 0.0329687\n",
      "[46]\tvalid_0's binary_logloss: 0.0324895\n",
      "[47]\tvalid_0's binary_logloss: 0.0320908\n",
      "[48]\tvalid_0's binary_logloss: 0.0317033\n",
      "[49]\tvalid_0's binary_logloss: 0.0313983\n",
      "[50]\tvalid_0's binary_logloss: 0.0310909\n",
      "[51]\tvalid_0's binary_logloss: 0.0307998\n",
      "[52]\tvalid_0's binary_logloss: 0.0305404\n",
      "[53]\tvalid_0's binary_logloss: 0.0303271\n",
      "[54]\tvalid_0's binary_logloss: 0.0301166\n",
      "[55]\tvalid_0's binary_logloss: 0.0299062\n",
      "[56]\tvalid_0's binary_logloss: 0.0297837\n",
      "[57]\tvalid_0's binary_logloss: 0.0296062\n",
      "[58]\tvalid_0's binary_logloss: 0.0297479\n",
      "[59]\tvalid_0's binary_logloss: 0.0296207\n",
      "[60]\tvalid_0's binary_logloss: 0.0294968\n",
      "[61]\tvalid_0's binary_logloss: 0.0293665\n",
      "[62]\tvalid_0's binary_logloss: 0.0292488\n",
      "[63]\tvalid_0's binary_logloss: 0.0291676\n",
      "[64]\tvalid_0's binary_logloss: 0.0291092\n",
      "[65]\tvalid_0's binary_logloss: 0.0290231\n",
      "[66]\tvalid_0's binary_logloss: 0.0289618\n",
      "[67]\tvalid_0's binary_logloss: 0.0288974\n",
      "[68]\tvalid_0's binary_logloss: 0.028824\n",
      "[69]\tvalid_0's binary_logloss: 0.0287715\n",
      "[70]\tvalid_0's binary_logloss: 0.0287351\n",
      "[71]\tvalid_0's binary_logloss: 0.0286792\n",
      "[72]\tvalid_0's binary_logloss: 0.028635\n",
      "[73]\tvalid_0's binary_logloss: 0.0285968\n",
      "[74]\tvalid_0's binary_logloss: 0.0285654\n",
      "[75]\tvalid_0's binary_logloss: 0.0285572\n",
      "[76]\tvalid_0's binary_logloss: 0.0285383\n",
      "[77]\tvalid_0's binary_logloss: 0.0284518\n",
      "[78]\tvalid_0's binary_logloss: 0.0285274\n",
      "[79]\tvalid_0's binary_logloss: 0.0284475\n",
      "[80]\tvalid_0's binary_logloss: 0.0286281\n",
      "[81]\tvalid_0's binary_logloss: 0.0283736\n",
      "[82]\tvalid_0's binary_logloss: 0.0284225\n",
      "[83]\tvalid_0's binary_logloss: 0.0283789\n",
      "[84]\tvalid_0's binary_logloss: 0.0283772\n",
      "[85]\tvalid_0's binary_logloss: 0.0283468\n",
      "[86]\tvalid_0's binary_logloss: 0.0283353\n",
      "[87]\tvalid_0's binary_logloss: 0.0283059\n",
      "[88]\tvalid_0's binary_logloss: 0.216178\n",
      "[89]\tvalid_0's binary_logloss: 0.215534\n",
      "[90]\tvalid_0's binary_logloss: 0.213354\n",
      "[91]\tvalid_0's binary_logloss: 0.211846\n",
      "[92]\tvalid_0's binary_logloss: 0.210001\n",
      "[93]\tvalid_0's binary_logloss: 0.208522\n",
      "[94]\tvalid_0's binary_logloss: 0.207704\n",
      "[95]\tvalid_0's binary_logloss: 0.205737\n",
      "[96]\tvalid_0's binary_logloss: 0.203921\n",
      "[97]\tvalid_0's binary_logloss: 0.202918\n",
      "[98]\tvalid_0's binary_logloss: 0.201732\n",
      "[99]\tvalid_0's binary_logloss: 0.199697\n",
      "[100]\tvalid_0's binary_logloss: 0.220023\n",
      "[101]\tvalid_0's binary_logloss: 0.202966\n",
      "[102]\tvalid_0's binary_logloss: 0.212701\n",
      "[103]\tvalid_0's binary_logloss: 0.187099\n",
      "[104]\tvalid_0's binary_logloss: 0.187838\n",
      "[105]\tvalid_0's binary_logloss: 0.187813\n",
      "[106]\tvalid_0's binary_logloss: 0.186681\n",
      "[107]\tvalid_0's binary_logloss: 0.1855\n",
      "Early stopping, best iteration is:\n",
      "[87]\tvalid_0's binary_logloss: 0.0283059\n"
     ]
    }
   ],
   "source": [
    "num_round = 200\n",
    "bst = lgb.train(param, train_data, num_round, valid_sets=[test_data],early_stopping_rounds=20)"
   ]
  },
  {
   "cell_type": "code",
   "execution_count": 6,
   "metadata": {},
   "outputs": [],
   "source": [
    "counts = train_y.value_counts()\n",
    "neg_num = counts[0]\n",
    "pos_num = counts[1]"
   ]
  },
  {
   "cell_type": "code",
   "execution_count": 22,
   "metadata": {},
   "outputs": [
    {
     "data": {
      "text/plain": [
       "(742504, 298)"
      ]
     },
     "execution_count": 22,
     "metadata": {},
     "output_type": "execute_result"
    }
   ],
   "source": [
    "train_x.shape"
   ]
  },
  {
   "cell_type": "code",
   "execution_count": 11,
   "metadata": {},
   "outputs": [],
   "source": [
    "import numpy as np\n",
    "def func(t):\n",
    "    if t<0.5:\n",
    "        return 0\n",
    "    else:\n",
    "        return 1\n",
    "vfunc = np.vectorize(func)"
   ]
  },
  {
   "cell_type": "code",
   "execution_count": 14,
   "metadata": {},
   "outputs": [
    {
     "name": "stdout",
     "output_type": "stream",
     "text": [
      "predicting\n",
      "precision:0.6573628488931665,recall:0.5193916349809886\n"
     ]
    }
   ],
   "source": [
    "from sklearn import metrics\n",
    "print('predicting')\n",
    "y_predict = bst.predict(test_x)\n",
    "y_predict = vfunc(y_predict)\n",
    "print(\"precision:{},recall:{}\".format(metrics.precision_score(test_y,y_predict),metrics.recall_score(test_y,y_predict)))"
   ]
  },
  {
   "cell_type": "code",
   "execution_count": 15,
   "metadata": {},
   "outputs": [],
   "source": [
    "y_predict = bst.predict(test_x)\n",
    "result = pd.DataFrame({'score':y_predict,'truth':test_y},index = test_x.index)\n",
    "result.to_csv('../result/large_lgb_default_early_stop.csv')"
   ]
  },
  {
   "cell_type": "code",
   "execution_count": 35,
   "metadata": {},
   "outputs": [],
   "source": [
    "# save lgb model\n",
    "model_name = '../models/lgb_default_early_stop.txt'\n",
    "bst.save_model(model_name,num_iteration=bst.best_iteration)"
   ]
  },
  {
   "cell_type": "code",
   "execution_count": 2,
   "metadata": {},
   "outputs": [],
   "source": [
    "# import model\n",
    "clf = joblib.load(model_name)"
   ]
  },
  {
   "cell_type": "code",
   "execution_count": 53,
   "metadata": {},
   "outputs": [
    {
     "name": "stderr",
     "output_type": "stream",
     "text": [
      "e:\\python352\\lib\\site-packages\\sklearn\\linear_model\\base.py:340: RuntimeWarning: overflow encountered in exp\n",
      "  np.exp(prob, prob)\n"
     ]
    }
   ],
   "source": [
    "yp_pedict = clf.predict_proba(x_test)"
   ]
  },
  {
   "cell_type": "code",
   "execution_count": 54,
   "metadata": {},
   "outputs": [],
   "source": [
    "# import real test data\n",
    "test_data = pd.read_csv('./data/full_size/atec_anti_fraud_test_a.csv',index_col = 0)"
   ]
  },
  {
   "cell_type": "code",
   "execution_count": 55,
   "metadata": {},
   "outputs": [
    {
     "name": "stderr",
     "output_type": "stream",
     "text": [
      "e:\\python352\\lib\\site-packages\\sklearn\\linear_model\\base.py:340: RuntimeWarning: overflow encountered in exp\n",
      "  np.exp(prob, prob)\n"
     ]
    }
   ],
   "source": [
    "# fill nan\n",
    "test_data = test_data.fillna(test_data.mode().iloc[0])\n",
    "test_data_x = test_data.iloc[:,1:]\n",
    "test_predict_y = clf.predict_proba(test_data_x)"
   ]
  },
  {
   "cell_type": "code",
   "execution_count": 16,
   "metadata": {},
   "outputs": [],
   "source": [
    "from sklearn import metrics\n",
    "test_y = clf.predict_proba(test_data_x)"
   ]
  },
  {
   "cell_type": "code",
   "execution_count": 56,
   "metadata": {},
   "outputs": [],
   "source": [
    "result = pd.DataFrame({'score':test_predict_y[:,1]},index=test_data.index)"
   ]
  },
  {
   "cell_type": "code",
   "execution_count": 58,
   "metadata": {},
   "outputs": [],
   "source": [
    "result.to_csv('bm.csv')"
   ]
  },
  {
   "cell_type": "code",
   "execution_count": 65,
   "metadata": {},
   "outputs": [
    {
     "data": {
      "text/plain": [
       "6.1016783683298489e-06"
      ]
     },
     "execution_count": 65,
     "metadata": {},
     "output_type": "execute_result"
    }
   ],
   "source": [
    "result['score'].mean()"
   ]
  },
  {
   "cell_type": "code",
   "execution_count": 60,
   "metadata": {},
   "outputs": [
    {
     "data": {
      "text/plain": [
       "id\n",
       "8e8290c270ec4bc3448dd5edd35c6f059b42d38f9ddd6fda5578f0e340908fa4    0.0\n",
       "f36c5fa5c0e7afccf733a4d74c7e06ffe43cc8fd24eda7c335237327bb02e02b    0.0\n",
       "ee85f808b1fd49eaba308527e1686c509dc8e3e50574888e0f5f8bc21733711c    0.0\n",
       "0df905aa187938d56a9b0816b13f54ac1f87d658a33cd06505b738c66b54fd3f    0.0\n",
       "15f532f979c4f092bbbe28e5409c8c3b8454ece8f1ab3ee00755b4949ef75c03    0.0\n",
       "614728f2aba299d20ddffca7e1ebc38ae8f239663562a9a3602e1e2c373f7299    0.0\n",
       "3dc22d969895bc4afdaa5266d1586ae1a360adfcc638b5fb1e2f242bbbc869eb    0.0\n",
       "b6cba0173d6a894f443578b5d82c00444dfe24c5e1705d4b2b835062eeb61d7a    0.0\n",
       "84d010a48c747947588589473e2ebdc59db3d348849c5b67759dfbcd1d92f35e    0.0\n",
       "bc00fec7ff8b3e4f8bd826048da109e7fe40fcc604ba28ce78576e05a4e67fba    0.0\n",
       "85426887c8a4f4fd881ae1e79654940e35c68bfd681a5eaac4787f0f82483780    0.0\n",
       "ee84ac886d80e779aeb5c4af65dbb8e087014d7c98b7973bd9d91d8e2467a341    0.0\n",
       "4cbb83002d62e3257d49d3742b0a27eb677ae1c464f69e4b19fe73d095ab8eae    0.0\n",
       "4e6ba7f2c84040ec8afde9f42c5bee3d53fd24e3df292980a6475fc06138d559    0.0\n",
       "032045573490536147dc7a4d7863407c3d2dc4e47d8ce58e3b07baef8095d2f3    0.0\n",
       "187cbf2082730f6466823adbbbfe8b8e20c6fa6bcf67fe434794804bf9dfe921    0.0\n",
       "596c89fe956456a0d990099c35fbca2bba67c32689f0fe63d04baf307b1ce702    0.0\n",
       "537db04fbbaa2bddc4fbb680cb9b10fc226709827b02233ccc9a5127332fd7c4    0.0\n",
       "a18bc6484d6dea76411aed24f9b94790f5f990a16ffceaf4a2fa9b2d81e14310    0.0\n",
       "8841419781118cbfd94a34c7a061623195615582d8eda91f7af8dbe6442110ef    0.0\n",
       "4cf2141914054e9623011ecfea7b62fcf8d3ba94a825512de3444f0897cae392    0.0\n",
       "5fbcdd4d10bcd0747a287d3b9b54f616171111e37def25077e3cceb4786f468d    0.0\n",
       "fe8e6d1092c0926d54d5a5aab6d6d8942c0925312e39c88d1177a490b4e74a86    0.0\n",
       "75a6a0fee2bf767d62ed4517bb100b4aa8c10da2d6d7b85878ce6ee4aba9ad51    0.0\n",
       "1c786dcb18dba07f986b664512b554f089091625835cacfb1cfb7bf3077e1097    0.0\n",
       "81d59991505942c91533ef060e67f66c774dfb0415bdb0ee350f4b96ff21b750    0.0\n",
       "6f841c3ac2b2c12d8a23cb76f0fb8feca702d9c9d4d55f6030262460c0acfb68    0.0\n",
       "368c8d09b5c242a7e17aa854f76f23cad6c8a5e438708d7733e3f483d7c5d5df    0.0\n",
       "77b27e29a4c10eb00b4322e799b28d394eca67483a3d94ef868c1954a03bfe5d    0.0\n",
       "ad7457213e0a9b7711e61da87bdfac1b47663e75d42408e7927f282e14c9d3f2    0.0\n",
       "                                                                   ... \n",
       "d4b098fafd692a295c57faa983dcd3d218f1a5b42ecbc7e28ede8f42de9aefe8    0.0\n",
       "5d119d2140d142aec1b9a917aa429a30090bd262ee9a4f77591d5834f8126d9d    0.0\n",
       "10c32fc8561fffb90da6b46e132fdf0afa1f7da915656576222220b205e0e142    0.0\n",
       "397128e474f229537fcfcfa69ac56b3436d98b40df02ab037f410d57a199ccea    0.0\n",
       "351899a089abec91effdb0aca1ccda5565c9a067cff688b339615d6907d335cd    0.0\n",
       "73268f49c5241e8103915e9ff5e842876f15af7e3c2fd213f6917f55774c51c2    0.0\n",
       "583f9b7aa46b175dc01cd2c9fdbde6a4cee26ee01a3fbc7f52a28a7c28dd17e8    0.0\n",
       "48df10c8d7fa90c0ab0c492dfacfbb00e9ba26b917be9be10327816671528614    0.0\n",
       "ea43529784f5bd6fed50c6e074dd5d07cab0d122eb8693736875f2fc5f08a5ca    0.0\n",
       "e20eeab59588e330cc59ad51b11145642f643b946870693eb48d90a94b8b8eaa    0.0\n",
       "c73d0ac9086958ee08fb82960c2210bcd1550b94fa77499330fd6c986761354f    0.0\n",
       "a045122827fd1aa6ee991d6e6b3c3a12639926fe7ca6aaac3a281de253869b5f    0.0\n",
       "02ade44f41fd9ebeb920357ca16ddb0083cd866c25c41f8a5132ae3bb070f5f6    0.0\n",
       "12200dddbac63d241e4a1699225ccc0becc419ba01f4e6697ad7f005d381e205    0.0\n",
       "762ae031e9db752bebf0c9312f61b100f166378184d52f372115ba08d436985b    0.0\n",
       "055e3c7e1e998b442093f97c6c833bc1877d5f57b8db775dd06f589465b54f2b    0.0\n",
       "4663485dc77da88d90a6d2a82a568ee1a09ed98d799e5875b27fb66994576f4b    0.0\n",
       "7815e67aec26fe04fa157d0f748c1bb1e5a8958d896e4ef001ad08ab947a0d4e    0.0\n",
       "4f1503eaa2d04abaa21f1206a0235158a0b445b94e1139e85796eb8a3dbcf89d    0.0\n",
       "0380f24a28d60b12d3ebdbec43e41f418f826dc110ceb26e5d5a1a7cb217ff3d    0.0\n",
       "d71b2050e8d0712c8164e42640d673114df00db5ca6c8eb9debe8c39b453e95f    0.0\n",
       "cf1852995c7d7af3437f763914065e09b3a309dcb2385efccef1613c852db9dc    0.0\n",
       "eedbc73ba4f0f9a273cdc76a73494b2bde7c0042fa39fcf73acb330eeb2d4db8    0.0\n",
       "cfa902b6cc55e0bdf72448cd1dbcfb74f6ac523d9cd636def1fdfa70cee5fe53    0.0\n",
       "dca4519f5eafcd2f7dd0efb8fa5f747797b95b784b6deef5faf0c03d0cbd0252    0.0\n",
       "6c81b06105883ca7a14663ab36b86c8d8c42063d9339bd5b1242ec96afbabdce    0.0\n",
       "ed66c4e4a0c12c25ccb5adde538bf4f23b5f0d78b72437f4c7eca56d7d8c664a    0.0\n",
       "d903a703b172bad8200e82755c24941892be59323b2c9ac1e53ae5778cf74fa9    0.0\n",
       "61c195379230f1237cc37b47045cedc7be59bf806313eaf5dc63f56b5d0ff522    0.0\n",
       "a32a828405ff4487da0a8e8c67be8d1c658a9dbd07d78654dfd6ad6399c67975    0.0\n",
       "Name: score, Length: 491668, dtype: float64"
      ]
     },
     "execution_count": 60,
     "metadata": {},
     "output_type": "execute_result"
    }
   ],
   "source": [
    "result['score']"
   ]
  },
  {
   "cell_type": "code",
   "execution_count": null,
   "metadata": {},
   "outputs": [],
   "source": []
  }
 ],
 "metadata": {
  "kernelspec": {
   "display_name": "Python 3",
   "language": "python",
   "name": "python3"
  },
  "language_info": {
   "codemirror_mode": {
    "name": "ipython",
    "version": 3
   },
   "file_extension": ".py",
   "mimetype": "text/x-python",
   "name": "python",
   "nbconvert_exporter": "python",
   "pygments_lexer": "ipython3",
   "version": "3.5.2"
  }
 },
 "nbformat": 4,
 "nbformat_minor": 2
}
