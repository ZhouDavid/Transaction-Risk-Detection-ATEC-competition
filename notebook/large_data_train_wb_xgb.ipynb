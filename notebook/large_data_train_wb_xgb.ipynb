{
 "cells": [
  {
   "cell_type": "code",
   "execution_count": 1,
   "metadata": {},
   "outputs": [
    {
     "name": "stderr",
     "output_type": "stream",
     "text": [
      "e:\\python352\\lib\\site-packages\\sklearn\\cross_validation.py:41: DeprecationWarning: This module was deprecated in version 0.18 in favor of the model_selection module into which all the refactored classes and functions are moved. Also note that the interface of the new CV iterators are different from that of this module. This module will be removed in 0.20.\n",
      "  \"This module will be removed in 0.20.\", DeprecationWarning)\n"
     ]
    }
   ],
   "source": [
    "import pandas as pd\n",
    "import sklearn\n",
    "from sklearn import svm\n",
    "from sklearn.cross_validation import train_test_split\n",
    "from sklearn import preprocessing\n",
    "import xgboost as xgb"
   ]
  },
  {
   "cell_type": "code",
   "execution_count": 2,
   "metadata": {},
   "outputs": [],
   "source": [
    "# constant definition\n",
    "# small_data_path = './data/small_size/sample_atec_anti_fraud_train.csv'\n",
    "full_data_path = '../data/full_size/atec_anti_fraud_train.csv'"
   ]
  },
  {
   "cell_type": "code",
   "execution_count": 3,
   "metadata": {},
   "outputs": [],
   "source": [
    "# write sample data to file\n",
    "df = pd.read_csv(full_data_path,index_col = 0)\n",
    "# sdf.to_csv(small_data_path)"
   ]
  },
  {
   "cell_type": "code",
   "execution_count": 4,
   "metadata": {},
   "outputs": [],
   "source": [
    "# preprocess sample data\n",
    "# method 1: delete all -1 labeled data\n",
    "psdf1 = df[df['label']!=-1]\n",
    "# fill in all NAN with most common value\n",
    "psdf1 = psdf1.fillna(psdf1.mode().iloc[0])"
   ]
  },
  {
   "cell_type": "code",
   "execution_count": 5,
   "metadata": {},
   "outputs": [],
   "source": [
    "X = psdf1.iloc[:,2:]\n",
    "Y = psdf1.iloc[:,0]\n",
    "x_train,x_test,y_train,y_test=train_test_split(X,Y,test_size=0.25,random_state=1)"
   ]
  },
  {
   "cell_type": "code",
   "execution_count": 6,
   "metadata": {},
   "outputs": [],
   "source": [
    "# preprocessing scale to 1\n",
    "scaler = preprocessing.StandardScaler()\n",
    "x_train = pd.DataFrame(scaler.fit_transform(x_train),index = x_train.index,columns = x_train.columns)\n",
    "x_test = pd.DataFrame(scaler.fit_transform(x_test),index = x_test.index,columns = x_test.columns)"
   ]
  },
  {
   "cell_type": "code",
   "execution_count": 7,
   "metadata": {},
   "outputs": [
    {
     "name": "stdout",
     "output_type": "stream",
     "text": [
      "fitting\n"
     ]
    },
    {
     "ename": "XGBoostError",
     "evalue": "b'[02:18:15] d:\\\\build\\\\xgboost\\\\xgboost-0.71.git\\\\src\\\\objective\\\\objective.cc:23: Unknown objective function binary'",
     "output_type": "error",
     "traceback": [
      "\u001b[1;31m---------------------------------------------------------------------------\u001b[0m",
      "\u001b[1;31mXGBoostError\u001b[0m                              Traceback (most recent call last)",
      "\u001b[1;32m<ipython-input-7-9b61bdc59263>\u001b[0m in \u001b[0;36m<module>\u001b[1;34m()\u001b[0m\n\u001b[0;32m      2\u001b[0m \u001b[0mclf\u001b[0m \u001b[1;33m=\u001b[0m \u001b[0mXGBClassifier\u001b[0m\u001b[1;33m(\u001b[0m\u001b[0mobjective\u001b[0m\u001b[1;33m=\u001b[0m\u001b[1;34m'binary'\u001b[0m\u001b[1;33m,\u001b[0m\u001b[0mloss\u001b[0m \u001b[1;33m=\u001b[0m \u001b[1;34m'log'\u001b[0m\u001b[1;33m,\u001b[0m\u001b[0mverbose\u001b[0m\u001b[1;33m=\u001b[0m\u001b[1;32mTrue\u001b[0m\u001b[1;33m,\u001b[0m\u001b[0mclass_weight\u001b[0m \u001b[1;33m=\u001b[0m \u001b[1;34m'balanced'\u001b[0m\u001b[1;33m)\u001b[0m\u001b[1;33m\u001b[0m\u001b[0m\n\u001b[0;32m      3\u001b[0m \u001b[0mprint\u001b[0m\u001b[1;33m(\u001b[0m\u001b[1;34m'fitting'\u001b[0m\u001b[1;33m)\u001b[0m\u001b[1;33m\u001b[0m\u001b[0m\n\u001b[1;32m----> 4\u001b[1;33m \u001b[0mclf\u001b[0m\u001b[1;33m.\u001b[0m\u001b[0mfit\u001b[0m\u001b[1;33m(\u001b[0m\u001b[0mx_train\u001b[0m\u001b[1;33m,\u001b[0m\u001b[0my_train\u001b[0m\u001b[1;33m)\u001b[0m\u001b[1;33m\u001b[0m\u001b[0m\n\u001b[0m\u001b[0;32m      5\u001b[0m \u001b[1;32mfrom\u001b[0m \u001b[0msklearn\u001b[0m \u001b[1;32mimport\u001b[0m \u001b[0mmetrics\u001b[0m\u001b[1;33m\u001b[0m\u001b[0m\n\u001b[0;32m      6\u001b[0m \u001b[0mprint\u001b[0m\u001b[1;33m(\u001b[0m\u001b[1;34m'predicting'\u001b[0m\u001b[1;33m)\u001b[0m\u001b[1;33m\u001b[0m\u001b[0m\n",
      "\u001b[1;32me:\\python352\\lib\\site-packages\\xgboost\\sklearn.py\u001b[0m in \u001b[0;36mfit\u001b[1;34m(self, X, y, sample_weight, eval_set, eval_metric, early_stopping_rounds, verbose, xgb_model)\u001b[0m\n\u001b[0;32m    504\u001b[0m                               \u001b[0mearly_stopping_rounds\u001b[0m\u001b[1;33m=\u001b[0m\u001b[0mearly_stopping_rounds\u001b[0m\u001b[1;33m,\u001b[0m\u001b[1;33m\u001b[0m\u001b[0m\n\u001b[0;32m    505\u001b[0m                               \u001b[0mevals_result\u001b[0m\u001b[1;33m=\u001b[0m\u001b[0mevals_result\u001b[0m\u001b[1;33m,\u001b[0m \u001b[0mobj\u001b[0m\u001b[1;33m=\u001b[0m\u001b[0mobj\u001b[0m\u001b[1;33m,\u001b[0m \u001b[0mfeval\u001b[0m\u001b[1;33m=\u001b[0m\u001b[0mfeval\u001b[0m\u001b[1;33m,\u001b[0m\u001b[1;33m\u001b[0m\u001b[0m\n\u001b[1;32m--> 506\u001b[1;33m                               verbose_eval=verbose, xgb_model=None)\n\u001b[0m\u001b[0;32m    507\u001b[0m \u001b[1;33m\u001b[0m\u001b[0m\n\u001b[0;32m    508\u001b[0m         \u001b[0mself\u001b[0m\u001b[1;33m.\u001b[0m\u001b[0mobjective\u001b[0m \u001b[1;33m=\u001b[0m \u001b[0mxgb_options\u001b[0m\u001b[1;33m[\u001b[0m\u001b[1;34m\"objective\"\u001b[0m\u001b[1;33m]\u001b[0m\u001b[1;33m\u001b[0m\u001b[0m\n",
      "\u001b[1;32me:\\python352\\lib\\site-packages\\xgboost\\training.py\u001b[0m in \u001b[0;36mtrain\u001b[1;34m(params, dtrain, num_boost_round, evals, obj, feval, maximize, early_stopping_rounds, evals_result, verbose_eval, xgb_model, callbacks, learning_rates)\u001b[0m\n\u001b[0;32m    202\u001b[0m                            \u001b[0mevals\u001b[0m\u001b[1;33m=\u001b[0m\u001b[0mevals\u001b[0m\u001b[1;33m,\u001b[0m\u001b[1;33m\u001b[0m\u001b[0m\n\u001b[0;32m    203\u001b[0m                            \u001b[0mobj\u001b[0m\u001b[1;33m=\u001b[0m\u001b[0mobj\u001b[0m\u001b[1;33m,\u001b[0m \u001b[0mfeval\u001b[0m\u001b[1;33m=\u001b[0m\u001b[0mfeval\u001b[0m\u001b[1;33m,\u001b[0m\u001b[1;33m\u001b[0m\u001b[0m\n\u001b[1;32m--> 204\u001b[1;33m                            xgb_model=xgb_model, callbacks=callbacks)\n\u001b[0m\u001b[0;32m    205\u001b[0m \u001b[1;33m\u001b[0m\u001b[0m\n\u001b[0;32m    206\u001b[0m \u001b[1;33m\u001b[0m\u001b[0m\n",
      "\u001b[1;32me:\\python352\\lib\\site-packages\\xgboost\\training.py\u001b[0m in \u001b[0;36m_train_internal\u001b[1;34m(params, dtrain, num_boost_round, evals, obj, feval, xgb_model, callbacks)\u001b[0m\n\u001b[0;32m     72\u001b[0m         \u001b[1;31m# Skip the first update if it is a recovery step.\u001b[0m\u001b[1;33m\u001b[0m\u001b[1;33m\u001b[0m\u001b[0m\n\u001b[0;32m     73\u001b[0m         \u001b[1;32mif\u001b[0m \u001b[0mversion\u001b[0m \u001b[1;33m%\u001b[0m \u001b[1;36m2\u001b[0m \u001b[1;33m==\u001b[0m \u001b[1;36m0\u001b[0m\u001b[1;33m:\u001b[0m\u001b[1;33m\u001b[0m\u001b[0m\n\u001b[1;32m---> 74\u001b[1;33m             \u001b[0mbst\u001b[0m\u001b[1;33m.\u001b[0m\u001b[0mupdate\u001b[0m\u001b[1;33m(\u001b[0m\u001b[0mdtrain\u001b[0m\u001b[1;33m,\u001b[0m \u001b[0mi\u001b[0m\u001b[1;33m,\u001b[0m \u001b[0mobj\u001b[0m\u001b[1;33m)\u001b[0m\u001b[1;33m\u001b[0m\u001b[0m\n\u001b[0m\u001b[0;32m     75\u001b[0m             \u001b[0mbst\u001b[0m\u001b[1;33m.\u001b[0m\u001b[0msave_rabit_checkpoint\u001b[0m\u001b[1;33m(\u001b[0m\u001b[1;33m)\u001b[0m\u001b[1;33m\u001b[0m\u001b[0m\n\u001b[0;32m     76\u001b[0m             \u001b[0mversion\u001b[0m \u001b[1;33m+=\u001b[0m \u001b[1;36m1\u001b[0m\u001b[1;33m\u001b[0m\u001b[0m\n",
      "\u001b[1;32me:\\python352\\lib\\site-packages\\xgboost\\core.py\u001b[0m in \u001b[0;36mupdate\u001b[1;34m(self, dtrain, iteration, fobj)\u001b[0m\n\u001b[0;32m    893\u001b[0m         \u001b[1;32mif\u001b[0m \u001b[0mfobj\u001b[0m \u001b[1;32mis\u001b[0m \u001b[1;32mNone\u001b[0m\u001b[1;33m:\u001b[0m\u001b[1;33m\u001b[0m\u001b[0m\n\u001b[0;32m    894\u001b[0m             _check_call(_LIB.XGBoosterUpdateOneIter(self.handle, ctypes.c_int(iteration),\n\u001b[1;32m--> 895\u001b[1;33m                                                     dtrain.handle))\n\u001b[0m\u001b[0;32m    896\u001b[0m         \u001b[1;32melse\u001b[0m\u001b[1;33m:\u001b[0m\u001b[1;33m\u001b[0m\u001b[0m\n\u001b[0;32m    897\u001b[0m             \u001b[0mpred\u001b[0m \u001b[1;33m=\u001b[0m \u001b[0mself\u001b[0m\u001b[1;33m.\u001b[0m\u001b[0mpredict\u001b[0m\u001b[1;33m(\u001b[0m\u001b[0mdtrain\u001b[0m\u001b[1;33m)\u001b[0m\u001b[1;33m\u001b[0m\u001b[0m\n",
      "\u001b[1;32me:\\python352\\lib\\site-packages\\xgboost\\core.py\u001b[0m in \u001b[0;36m_check_call\u001b[1;34m(ret)\u001b[0m\n\u001b[0;32m    128\u001b[0m     \"\"\"\n\u001b[0;32m    129\u001b[0m     \u001b[1;32mif\u001b[0m \u001b[0mret\u001b[0m \u001b[1;33m!=\u001b[0m \u001b[1;36m0\u001b[0m\u001b[1;33m:\u001b[0m\u001b[1;33m\u001b[0m\u001b[0m\n\u001b[1;32m--> 130\u001b[1;33m         \u001b[1;32mraise\u001b[0m \u001b[0mXGBoostError\u001b[0m\u001b[1;33m(\u001b[0m\u001b[0m_LIB\u001b[0m\u001b[1;33m.\u001b[0m\u001b[0mXGBGetLastError\u001b[0m\u001b[1;33m(\u001b[0m\u001b[1;33m)\u001b[0m\u001b[1;33m)\u001b[0m\u001b[1;33m\u001b[0m\u001b[0m\n\u001b[0m\u001b[0;32m    131\u001b[0m \u001b[1;33m\u001b[0m\u001b[0m\n\u001b[0;32m    132\u001b[0m \u001b[1;33m\u001b[0m\u001b[0m\n",
      "\u001b[1;31mXGBoostError\u001b[0m: b'[02:18:15] d:\\\\build\\\\xgboost\\\\xgboost-0.71.git\\\\src\\\\objective\\\\objective.cc:23: Unknown objective function binary'"
     ]
    }
   ],
   "source": [
    "from xgboost import XGBClassifier\n",
    "clf = XGBClassifier(loss = 'log',verbose=True,class_weight = 'balanced')\n",
    "print('fitting')\n",
    "clf.fit(x_train,y_train)\n",
    "from sklearn import metrics\n",
    "print('predicting')\n",
    "y_train_predict = clf.predict(x_train)\n",
    "print(metrics.accuracy_score(y_train,y_train_predict))"
   ]
  },
  {
   "cell_type": "code",
   "execution_count": 7,
   "metadata": {},
   "outputs": [
    {
     "ename": "NameError",
     "evalue": "name 'clf' is not defined",
     "output_type": "error",
     "traceback": [
      "\u001b[1;31m---------------------------------------------------------------------------\u001b[0m",
      "\u001b[1;31mNameError\u001b[0m                                 Traceback (most recent call last)",
      "\u001b[1;32m<ipython-input-7-ea65821ffdac>\u001b[0m in \u001b[0;36m<module>\u001b[1;34m()\u001b[0m\n\u001b[1;32m----> 1\u001b[1;33m \u001b[0my_test_predict\u001b[0m \u001b[1;33m=\u001b[0m \u001b[0mclf\u001b[0m\u001b[1;33m.\u001b[0m\u001b[0mpredict_proba\u001b[0m\u001b[1;33m(\u001b[0m\u001b[0mx_test\u001b[0m\u001b[1;33m)\u001b[0m\u001b[1;33m\u001b[0m\u001b[0m\n\u001b[0m\u001b[0;32m      2\u001b[0m \u001b[0mresult\u001b[0m \u001b[1;33m=\u001b[0m \u001b[0mpd\u001b[0m\u001b[1;33m.\u001b[0m\u001b[0mDataFrame\u001b[0m\u001b[1;33m(\u001b[0m\u001b[1;33m{\u001b[0m\u001b[1;34m'score'\u001b[0m\u001b[1;33m:\u001b[0m\u001b[0my_test_predict\u001b[0m\u001b[1;33m[\u001b[0m\u001b[1;33m:\u001b[0m\u001b[1;33m,\u001b[0m\u001b[1;36m1\u001b[0m\u001b[1;33m]\u001b[0m\u001b[1;33m,\u001b[0m\u001b[1;34m'truth'\u001b[0m\u001b[1;33m:\u001b[0m\u001b[0my_test\u001b[0m\u001b[1;33m}\u001b[0m\u001b[1;33m,\u001b[0m\u001b[0mindex\u001b[0m \u001b[1;33m=\u001b[0m \u001b[0mx_test\u001b[0m\u001b[1;33m.\u001b[0m\u001b[0mindex\u001b[0m\u001b[1;33m)\u001b[0m\u001b[1;33m\u001b[0m\u001b[0m\n\u001b[0;32m      3\u001b[0m \u001b[0mresult\u001b[0m\u001b[1;33m.\u001b[0m\u001b[0mto_csv\u001b[0m\u001b[1;33m(\u001b[0m\u001b[1;34m'./result/large_binary_cw_xgb_no_time_result.csv'\u001b[0m\u001b[1;33m)\u001b[0m\u001b[1;33m\u001b[0m\u001b[0m\n",
      "\u001b[1;31mNameError\u001b[0m: name 'clf' is not defined"
     ]
    }
   ],
   "source": [
    "y_test_predict = clf.predict_proba(x_test)\n",
    "result = pd.DataFrame({'score':y_test_predict[:,1],'truth':y_test},index = x_test.index)\n",
    "result.to_csv('./result/large_binary_cw_xgb_no_time_result.csv')"
   ]
  },
  {
   "cell_type": "code",
   "execution_count": 9,
   "metadata": {},
   "outputs": [
    {
     "data": {
      "text/plain": [
       "['sgdclassifier.pkl']"
      ]
     },
     "execution_count": 9,
     "metadata": {},
     "output_type": "execute_result"
    }
   ],
   "source": [
    "# save sgd model\n",
    "from sklearn.externals import joblib\n",
    "model_name = 'sgdclassifier.pkl'\n",
    "joblib.dump(clf,model_name,compress=9)"
   ]
  },
  {
   "cell_type": "code",
   "execution_count": 2,
   "metadata": {},
   "outputs": [],
   "source": [
    "# import model\n",
    "clf = joblib.load(model_name)"
   ]
  },
  {
   "cell_type": "code",
   "execution_count": 53,
   "metadata": {},
   "outputs": [
    {
     "name": "stderr",
     "output_type": "stream",
     "text": [
      "e:\\python352\\lib\\site-packages\\sklearn\\linear_model\\base.py:340: RuntimeWarning: overflow encountered in exp\n",
      "  np.exp(prob, prob)\n"
     ]
    }
   ],
   "source": [
    "yp_pedict = clf.predict_proba(x_test)"
   ]
  },
  {
   "cell_type": "code",
   "execution_count": 54,
   "metadata": {},
   "outputs": [],
   "source": [
    "# import real test data\n",
    "test_data = pd.read_csv('./data/full_size/atec_anti_fraud_test_a.csv',index_col = 0)"
   ]
  },
  {
   "cell_type": "code",
   "execution_count": 55,
   "metadata": {},
   "outputs": [
    {
     "name": "stderr",
     "output_type": "stream",
     "text": [
      "e:\\python352\\lib\\site-packages\\sklearn\\linear_model\\base.py:340: RuntimeWarning: overflow encountered in exp\n",
      "  np.exp(prob, prob)\n"
     ]
    }
   ],
   "source": [
    "# fill nan\n",
    "test_data = test_data.fillna(test_data.mode().iloc[0])\n",
    "test_data_x = test_data.iloc[:,1:]\n",
    "test_predict_y = clf.predict_proba(test_data_x)"
   ]
  },
  {
   "cell_type": "code",
   "execution_count": 16,
   "metadata": {},
   "outputs": [],
   "source": [
    "from sklearn import metrics\n",
    "test_y = clf.predict_proba(test_data_x)"
   ]
  },
  {
   "cell_type": "code",
   "execution_count": 56,
   "metadata": {},
   "outputs": [],
   "source": [
    "result = pd.DataFrame({'score':test_predict_y[:,1]},index=test_data.index)"
   ]
  },
  {
   "cell_type": "code",
   "execution_count": 58,
   "metadata": {},
   "outputs": [],
   "source": [
    "result.to_csv('bm.csv')"
   ]
  },
  {
   "cell_type": "code",
   "execution_count": 65,
   "metadata": {},
   "outputs": [
    {
     "data": {
      "text/plain": [
       "6.1016783683298489e-06"
      ]
     },
     "execution_count": 65,
     "metadata": {},
     "output_type": "execute_result"
    }
   ],
   "source": [
    "result['score'].mean()"
   ]
  },
  {
   "cell_type": "code",
   "execution_count": 60,
   "metadata": {},
   "outputs": [
    {
     "data": {
      "text/plain": [
       "id\n",
       "8e8290c270ec4bc3448dd5edd35c6f059b42d38f9ddd6fda5578f0e340908fa4    0.0\n",
       "f36c5fa5c0e7afccf733a4d74c7e06ffe43cc8fd24eda7c335237327bb02e02b    0.0\n",
       "ee85f808b1fd49eaba308527e1686c509dc8e3e50574888e0f5f8bc21733711c    0.0\n",
       "0df905aa187938d56a9b0816b13f54ac1f87d658a33cd06505b738c66b54fd3f    0.0\n",
       "15f532f979c4f092bbbe28e5409c8c3b8454ece8f1ab3ee00755b4949ef75c03    0.0\n",
       "614728f2aba299d20ddffca7e1ebc38ae8f239663562a9a3602e1e2c373f7299    0.0\n",
       "3dc22d969895bc4afdaa5266d1586ae1a360adfcc638b5fb1e2f242bbbc869eb    0.0\n",
       "b6cba0173d6a894f443578b5d82c00444dfe24c5e1705d4b2b835062eeb61d7a    0.0\n",
       "84d010a48c747947588589473e2ebdc59db3d348849c5b67759dfbcd1d92f35e    0.0\n",
       "bc00fec7ff8b3e4f8bd826048da109e7fe40fcc604ba28ce78576e05a4e67fba    0.0\n",
       "85426887c8a4f4fd881ae1e79654940e35c68bfd681a5eaac4787f0f82483780    0.0\n",
       "ee84ac886d80e779aeb5c4af65dbb8e087014d7c98b7973bd9d91d8e2467a341    0.0\n",
       "4cbb83002d62e3257d49d3742b0a27eb677ae1c464f69e4b19fe73d095ab8eae    0.0\n",
       "4e6ba7f2c84040ec8afde9f42c5bee3d53fd24e3df292980a6475fc06138d559    0.0\n",
       "032045573490536147dc7a4d7863407c3d2dc4e47d8ce58e3b07baef8095d2f3    0.0\n",
       "187cbf2082730f6466823adbbbfe8b8e20c6fa6bcf67fe434794804bf9dfe921    0.0\n",
       "596c89fe956456a0d990099c35fbca2bba67c32689f0fe63d04baf307b1ce702    0.0\n",
       "537db04fbbaa2bddc4fbb680cb9b10fc226709827b02233ccc9a5127332fd7c4    0.0\n",
       "a18bc6484d6dea76411aed24f9b94790f5f990a16ffceaf4a2fa9b2d81e14310    0.0\n",
       "8841419781118cbfd94a34c7a061623195615582d8eda91f7af8dbe6442110ef    0.0\n",
       "4cf2141914054e9623011ecfea7b62fcf8d3ba94a825512de3444f0897cae392    0.0\n",
       "5fbcdd4d10bcd0747a287d3b9b54f616171111e37def25077e3cceb4786f468d    0.0\n",
       "fe8e6d1092c0926d54d5a5aab6d6d8942c0925312e39c88d1177a490b4e74a86    0.0\n",
       "75a6a0fee2bf767d62ed4517bb100b4aa8c10da2d6d7b85878ce6ee4aba9ad51    0.0\n",
       "1c786dcb18dba07f986b664512b554f089091625835cacfb1cfb7bf3077e1097    0.0\n",
       "81d59991505942c91533ef060e67f66c774dfb0415bdb0ee350f4b96ff21b750    0.0\n",
       "6f841c3ac2b2c12d8a23cb76f0fb8feca702d9c9d4d55f6030262460c0acfb68    0.0\n",
       "368c8d09b5c242a7e17aa854f76f23cad6c8a5e438708d7733e3f483d7c5d5df    0.0\n",
       "77b27e29a4c10eb00b4322e799b28d394eca67483a3d94ef868c1954a03bfe5d    0.0\n",
       "ad7457213e0a9b7711e61da87bdfac1b47663e75d42408e7927f282e14c9d3f2    0.0\n",
       "                                                                   ... \n",
       "d4b098fafd692a295c57faa983dcd3d218f1a5b42ecbc7e28ede8f42de9aefe8    0.0\n",
       "5d119d2140d142aec1b9a917aa429a30090bd262ee9a4f77591d5834f8126d9d    0.0\n",
       "10c32fc8561fffb90da6b46e132fdf0afa1f7da915656576222220b205e0e142    0.0\n",
       "397128e474f229537fcfcfa69ac56b3436d98b40df02ab037f410d57a199ccea    0.0\n",
       "351899a089abec91effdb0aca1ccda5565c9a067cff688b339615d6907d335cd    0.0\n",
       "73268f49c5241e8103915e9ff5e842876f15af7e3c2fd213f6917f55774c51c2    0.0\n",
       "583f9b7aa46b175dc01cd2c9fdbde6a4cee26ee01a3fbc7f52a28a7c28dd17e8    0.0\n",
       "48df10c8d7fa90c0ab0c492dfacfbb00e9ba26b917be9be10327816671528614    0.0\n",
       "ea43529784f5bd6fed50c6e074dd5d07cab0d122eb8693736875f2fc5f08a5ca    0.0\n",
       "e20eeab59588e330cc59ad51b11145642f643b946870693eb48d90a94b8b8eaa    0.0\n",
       "c73d0ac9086958ee08fb82960c2210bcd1550b94fa77499330fd6c986761354f    0.0\n",
       "a045122827fd1aa6ee991d6e6b3c3a12639926fe7ca6aaac3a281de253869b5f    0.0\n",
       "02ade44f41fd9ebeb920357ca16ddb0083cd866c25c41f8a5132ae3bb070f5f6    0.0\n",
       "12200dddbac63d241e4a1699225ccc0becc419ba01f4e6697ad7f005d381e205    0.0\n",
       "762ae031e9db752bebf0c9312f61b100f166378184d52f372115ba08d436985b    0.0\n",
       "055e3c7e1e998b442093f97c6c833bc1877d5f57b8db775dd06f589465b54f2b    0.0\n",
       "4663485dc77da88d90a6d2a82a568ee1a09ed98d799e5875b27fb66994576f4b    0.0\n",
       "7815e67aec26fe04fa157d0f748c1bb1e5a8958d896e4ef001ad08ab947a0d4e    0.0\n",
       "4f1503eaa2d04abaa21f1206a0235158a0b445b94e1139e85796eb8a3dbcf89d    0.0\n",
       "0380f24a28d60b12d3ebdbec43e41f418f826dc110ceb26e5d5a1a7cb217ff3d    0.0\n",
       "d71b2050e8d0712c8164e42640d673114df00db5ca6c8eb9debe8c39b453e95f    0.0\n",
       "cf1852995c7d7af3437f763914065e09b3a309dcb2385efccef1613c852db9dc    0.0\n",
       "eedbc73ba4f0f9a273cdc76a73494b2bde7c0042fa39fcf73acb330eeb2d4db8    0.0\n",
       "cfa902b6cc55e0bdf72448cd1dbcfb74f6ac523d9cd636def1fdfa70cee5fe53    0.0\n",
       "dca4519f5eafcd2f7dd0efb8fa5f747797b95b784b6deef5faf0c03d0cbd0252    0.0\n",
       "6c81b06105883ca7a14663ab36b86c8d8c42063d9339bd5b1242ec96afbabdce    0.0\n",
       "ed66c4e4a0c12c25ccb5adde538bf4f23b5f0d78b72437f4c7eca56d7d8c664a    0.0\n",
       "d903a703b172bad8200e82755c24941892be59323b2c9ac1e53ae5778cf74fa9    0.0\n",
       "61c195379230f1237cc37b47045cedc7be59bf806313eaf5dc63f56b5d0ff522    0.0\n",
       "a32a828405ff4487da0a8e8c67be8d1c658a9dbd07d78654dfd6ad6399c67975    0.0\n",
       "Name: score, Length: 491668, dtype: float64"
      ]
     },
     "execution_count": 60,
     "metadata": {},
     "output_type": "execute_result"
    }
   ],
   "source": [
    "result['score']"
   ]
  },
  {
   "cell_type": "code",
   "execution_count": null,
   "metadata": {},
   "outputs": [],
   "source": []
  }
 ],
 "metadata": {
  "kernelspec": {
   "display_name": "Python 3",
   "language": "python",
   "name": "python3"
  },
  "language_info": {
   "codemirror_mode": {
    "name": "ipython",
    "version": 3
   },
   "file_extension": ".py",
   "mimetype": "text/x-python",
   "name": "python",
   "nbconvert_exporter": "python",
   "pygments_lexer": "ipython3",
   "version": "3.5.2"
  }
 },
 "nbformat": 4,
 "nbformat_minor": 2
}
