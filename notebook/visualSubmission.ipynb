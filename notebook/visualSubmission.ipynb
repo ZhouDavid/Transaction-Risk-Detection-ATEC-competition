{
 "cells": [
  {
   "cell_type": "code",
   "execution_count": 1,
   "metadata": {},
   "outputs": [],
   "source": [
    "import numpy as np\n",
    "import pandas as pd\n",
    "import matplotlib.pyplot as plt\n",
    "from matplotlib import style\n",
    "style.use('ggplot')"
   ]
  },
  {
   "cell_type": "code",
   "execution_count": 2,
   "metadata": {},
   "outputs": [],
   "source": [
    "def difference(s1,s2):\n",
    "    return (s1-s2).apply(lambda x:x**2).sum()"
   ]
  },
  {
   "cell_type": "code",
   "execution_count": 14,
   "metadata": {},
   "outputs": [
    {
     "name": "stdout",
     "output_type": "stream",
     "text": [
      "1558.07286936\n"
     ]
    }
   ],
   "source": [
    "df1 = pd.read_csv('../submission/'+'testb_lgb_100n350le9d01l_fillnan_sf158_datecv5_original_date_0.3835.csv')\n",
    "df2 = pd.read_csv('../submission/'+'testb_lgb_100n400le10d01l_fillnan_sf158_normalcv5_original_date_scale_pos_weight.csv')\n",
    "print(difference(df1['score'],df2['score']))"
   ]
  },
  {
   "cell_type": "code",
   "execution_count": 3,
   "metadata": {},
   "outputs": [],
   "source": [
    "submissions_a = ['lgb_100n350le9d01l_fillna_0.2844.csv','lgb_300n350le9d01l_0.2742.csv',\n",
    "               'fake_time_split_xgb_500n_9d_0.1l_0.2689.csv','time_split_xgb500n9d0.1l_0.2665.csv',\n",
    "              'time_split_lgb_300n350le9d01l_0.2649.csv','xgb_300n5d_0.1l-0.2574.csv',\n",
    "              'lgb_100n32le5d01l_fillnan_0.2571.csv']\n",
    "submissions_b = ['testb_lgb_100n350le9d01l_fillnan_sf198_cv2_0.2198.csv',\n",
    "                 'testb_lgb_100n350le9d01l_fillnan_sf158_cv2_0.0288.csv',\n",
    "                'testb_lgb_100n350le9d01l_fillnan_sf158_cv5_0.3493.csv',\n",
    "                'testb_lgb_100n350le9d01l_fillnan_sf126_cv5_0.3526.csv',\n",
    "                'testb_lgb_100n350le9d01l_sf158_cv5_0.284.csv',\n",
    "                'testb_lgb_100n350le9d01l_fillnan_sf158_cv5_converted_date_0.3716.csv',\n",
    "                'testb_lgb_100n350le9d01l_fillnan_sf190_cv5_converted_date_0.0117.csv',\n",
    "                'testb_lgb_100n350le9d01l_fillnan_sf158_cv5_converted_date-v2_0.3781.csv',\n",
    "                 'testb_lgb_100n350le9d01l_fillnan_sf158_datecv5_original_date_0.3835.csv',\n",
    "                'testb_lgb_100n350le9d01l_fillnan_sf158_datecv5_converted_date_0.03oversample_unknown.csv',\n",
    "                'testb_lgb_100n350le9d01l_fillnan_sf158_datecv5_original_date_0.03oversample_0.3626.csv',\n",
    "                'testb_lgb_100n350le9d01l_fillnan_sf158_datecv5_converted_date_0.3684.csv']"
   ]
  },
  {
   "cell_type": "code",
   "execution_count": 4,
   "metadata": {},
   "outputs": [
    {
     "name": "stdout",
     "output_type": "stream",
     "text": [
      "testb_lgb_100n350le9d01l_fillnan_sf198_cv2_0.2198.csv:mean=0.01560429381643855, std=0.06358355979388024\n",
      "testb_lgb_100n350le9d01l_fillnan_sf158_cv2_0.0288.csv:mean=0.03725436057339499, std=0.08994394129513061\n",
      "testb_lgb_100n350le9d01l_fillnan_sf158_cv5_0.3493.csv:mean=0.02785369666666284, std=0.06314051596359863\n",
      "testb_lgb_100n350le9d01l_fillnan_sf126_cv5_0.3526.csv:mean=0.02355650303566275, std=0.04638193247601089\n",
      "testb_lgb_100n350le9d01l_sf158_cv5_0.284.csv:mean=0.03467785633222961, std=0.08660525613273239\n",
      "testb_lgb_100n350le9d01l_fillnan_sf158_cv5_converted_date_0.3716.csv:mean=0.021868032695587496, std=0.06408173405656072\n",
      "testb_lgb_100n350le9d01l_fillnan_sf190_cv5_converted_date_0.0117.csv:mean=0.052170770379461044, std=0.14741886658891307\n",
      "testb_lgb_100n350le9d01l_fillnan_sf158_cv5_converted_date-v2_0.3781.csv:mean=0.028688930359104164, std=0.06649369318376024\n",
      "testb_lgb_100n350le9d01l_fillnan_sf158_datecv5_original_date_0.3835.csv:mean=0.030578334610474434, std=0.057755359730261066\n",
      "testb_lgb_100n350le9d01l_fillnan_sf158_datecv5_converted_date_0.03oversample_unknown.csv:mean=0.22317664519650943, std=0.04545621759314381\n",
      "testb_lgb_100n350le9d01l_fillnan_sf158_datecv5_original_date_0.03oversample_0.3626.csv:mean=0.050428288881095344, std=0.07812432218873452\n",
      "testb_lgb_100n350le9d01l_fillnan_sf158_datecv5_converted_date_0.3684.csv:mean=0.02266267057592315, std=0.046533438527612006\n"
     ]
    }
   ],
   "source": [
    "import numpy as np\n",
    "import pandas as pd\n",
    "import matplotlib.pyplot as plt\n",
    "from matplotlib import style\n",
    "\n",
    "for file in submissions_b:\n",
    "    df = pd.read_csv('../submission/'+file)\n",
    "    scores = df['score']\n",
    "    print('{}:mean={}, std={}'.format(file,scores.mean(),scores.std()))"
   ]
  },
  {
   "cell_type": "code",
   "execution_count": null,
   "metadata": {},
   "outputs": [],
   "source": [
    "train_data = pd.read_csv('../data/full_size/atec_anti_fraud_train.csv',index_col=0)"
   ]
  },
  {
   "cell_type": "code",
   "execution_count": null,
   "metadata": {},
   "outputs": [],
   "source": [
    "train_data[train_data['label']!=-1]['label'].mean(),train_data[train_data['label']!=-1]['label'].std()"
   ]
  },
  {
   "cell_type": "code",
   "execution_count": null,
   "metadata": {},
   "outputs": [],
   "source": []
  }
 ],
 "metadata": {
  "kernelspec": {
   "display_name": "Python 3",
   "language": "python",
   "name": "python3"
  },
  "language_info": {
   "codemirror_mode": {
    "name": "ipython",
    "version": 3
   },
   "file_extension": ".py",
   "mimetype": "text/x-python",
   "name": "python",
   "nbconvert_exporter": "python",
   "pygments_lexer": "ipython3",
   "version": "3.5.2"
  }
 },
 "nbformat": 4,
 "nbformat_minor": 2
}
